{
 "cells": [
  {
   "cell_type": "markdown",
   "id": "de8f02ee-2e18-43ba-ac61-59d6fd8a0736",
   "metadata": {},
   "source": [
    "<h1 style = \"color: #000066; font-family: 'Baskerville Old Face'; text-align: center; font-weight: bold\"> Demystifying Jinja2: The Art of Python Templating </h1>\n",
    "\n",
    "<figure style=\"text-align: center;\">\n",
    "    <center><img src=\"https://realpython.com/cdn-cgi/image/width=960,format=auto/https://files.realpython.com/media/Primer-on-Jinja-Templating_Watermarked.ae90a187545f.jpg\" alt=\"Jinja2\" width=\"500\"></center>\n",
    "    <figcaption style=\"font-size: 12px; font-style: italic; color: gray;\">\n",
    "        🔗 Reference: <a href=\"https://realpython.com/cdn-cgi/image/width=960,format=auto/https://files.realpython.com/media/Primer-on-Jinja-Templating_Watermarked.ae90a187545f.jpg\" target=\"_blank\">https://realpython.com/cdn-cgi/image/width=960,format=auto/https://files.realpython.com/media/Primer-on-Jinja-Templating_Watermarked.ae90a187545f.jpg</a>\n",
    "    </figcaption>\n",
    "</figure><br>\n",
    "\n",
    "<h3 style = \"color: #000066; font-family: 'Baskerville Old Face'; text-align: right; font-weight: bold\"> -IMF J050</h3>\n",
    "\n",
    "<HR>\n",
    "\n",
    "<h2 style = \"color: #000066; font-family: 'Baskerville Old Face'; font-weight: bold\"> &rarr; Introduction</h2>\n",
    "\n",
    "<p style=\"font-family: 'Baskerville Old Face'; text-align: justify; font-size: 18px;\">\n",
    "    Welcome readers to the world of coding! Many of you might be wondering what this blog could be about and what exactly is Jinja?  \n",
    "    Many of us have heard (or not heard) about coding and have even feared from the web development languages like:</p>\n",
    "<ul style=\"font-family: 'Baskerville Old Face'; font-size: 18px;\">\n",
    "    <li>C/C++</li>\n",
    "    <li>Python</li>\n",
    "    <li>Java/JavaScript</li>\n",
    "    <li>HyperText Markup Language (HTML)</li>\n",
    "    <li>Extensible Markup Language (XML)</li>\n",
    "    <li>Cascading Style Sheets (CSS)</li>\n",
    "    ...and many more!\n",
    "</ul>\n",
    "<p style=\"font-family: 'Baskerville Old Face'; text-align: justify; font-size: 18px;\">\n",
    "But today, we’re diving into something built within the friendly-neighborhood language — Python 🐍. This tool helps us develop web pages, websites, and even combine Python with HTML, XML, LaTeX, and more. So to drive away the fear of web development, Python gives us a Library which is none other than Jinja2 Templating — the secret ingredient for creating dynamic, flexible, and efficient web content.<BR>\n",
    "We understand that not all of our readers may have a background in coding or Python. That’s why this guide is designed to be a simple, user-friendly introduction to the Art of Python Templating — <B>Jinja2 Templating. </B>\n",
    "</p>\n",
    "<h2 style = \"color: #000066; font-family: 'Baskerville Old Face'; font-weight: bold\">&rarr; Contents:</h2>\n",
    "<ol style=\"font-family: 'Baskerville Old Face'; font-size: 18px;\">\n",
    "<li><a href = \"#Pre-requisites for Jinja2 Templating\">Pre-requisites for Jinja2 Templating</a></li>\n",
    "<li><a href = \"#Introduction to the Jinja2 Templating\">Introduction to the Jinja2 Templating</a></li>\n",
    "<ul style=\"font-family: 'Baskerville Old Face'; font-size: 18px;\">\n",
    "<li><a href = \"#Why to Use Jinja2 Template?\">Why to Use Jinja2 Template?</a></li>\n",
    "<li><a href = \"#Mechanism (Working) of Jinja2 Template\">Mechanism (Working) of Jinja2 Template</a></li>\n",
    "</ul>\n",
    "<li><a href = \"#Installation & Setup of the Jinja2 in Python\">Installation & Setup of the Jinja2 in Python</a></li>\n",
    "<li><a href=\"#Coding in Jinja2: Connecting Python and HTML\">Coding in Jinja2: Connecting Python and HTML</a></li>\n",
    "<ul style=\"font-family: 'Baskerville Old Face'; font-size: 18px;\">\n",
    "<li><a href = \"#Displaying texts messages Using Jinja2\">Displaying texts messages Using Jinja2</a></li>\n",
    "<li><a href = \"#Basic Syntaxes and Functions in Jinja2\">Basic Syntaxes and Functions in Jinja2</a></li>\n",
    "<li><a href = \"#Formatting the Template\">Formatting the Template</a></li>\n",
    "<li><a href = \"#HTML Webpages with Python using Jinja2\">HTML Webpages with Python using Jinja2</a></li>\n",
    "</ul>\n",
    "<li><a href = \"#Key Features in Jinja2 Templating\">Key Features in Jinja2 Templating</a></li>\n",
    "<ul style=\"font-family: 'Baskerville Old Face'; font-size: 18px;\">\n",
    "<li><a href = \"#Variable Substitution\">Variable Substitution:</a></li>\n",
    "<li><a href = \"#Control Structures (Conditionals and Loops)\">Control Structures (Conditionals and Loops)</a></li>\n",
    "<li><a href = \"#Filters\">Filters</a></li>\n",
    "<li><a href = \"#Macros\">Macros</a></li>\n",
    "<li><a href = \"#Template Inheritance\">Template Inheritance</a></li>\n",
    "<li><a href = \"#HTML Escaping\">HTML Escaping</a></li>\n",
    "</ul>\n",
    "<li><a href=\"#Applications of Jinja2 Templating\">Applications of Jinja2 Templating</a></li>\n",
    "<li><a href=\"#Common Errors faced by Users\">Common Errors faced by Users</a></li>\n",
    "<li><a href = \"#Conclusion\">Conclusion</a></li>\n",
    "<li><a href = \"#References\">References</a></li>\n",
    "</ol>\n",
    "<a id =\"Pre-requisites for Jinja2 Templating\">\n",
    "<p style=\"font-family: 'Baskerville Old Face'; text-align: justify; font-size: 20px; color: #000066\"><b>֍  Pre-requisites for Jinja2 Templating:</b></p></a>\n",
    "<p style=\"font-family: 'Baskerville Old Face'; text-align: justify; font-size: 18px;\"> \n",
    "So to understand the whole content of blog, there are mainly two basic pre-requisites: HTML and Python. If you know basics of Python and HTML5, then you can skip this section and move on to the nect section: \"Introduction to the Jinja2 Templating\". So, here we will have a basic knowledge of what is HTML5 and Python and will provide necessary links for the basic understanding of both languages:<br>\n",
    "<ol style=\"font-family: 'Baskerville Old Face'; font-size: 18px;\">\n",
    "<li><b>Python: </b>Python is a high-level, general-purpose programming language. Its design philosophy emphasizes code readability with the use of significant indentation. It was created by Guido van Rossum, and released in 1991.<br>\n",
    "It is used for many purposes like:\n",
    "<ul style=\"font-family: 'Baskerville Old Face'; font-size: 18px;\">\n",
    "<li>Web Development (server-side)</li>\n",
    "<li>Software Development</li>\n",
    "<li>Mathematics</li>\n",
    "<li>System Scripting.</li>\n",
    "</ul>\n",
    "Python has a large number of libraries which helps in creating web applications, Read and modify files, visualize data, data analysis, object oriented programming and many other features. Some of the popular libraries are:\n",
    "<ul style=\"font-family: 'Baskerville Old Face'; font-size: 18px;\">\n",
    "<li>Matplotlib - <i>To plot graphs</i></li>\n",
    "<li>Math - <i>Includes all mathematical functions</i></li>\n",
    "<li>Numpy and Pandas - <i>Helps a lot in Data Visualization</i></li>\n",
    "<li>CSV and Pickle - <i>Helps a lot in managing csv files and binary files</i></li>\n",
    "</ul>\n",
    "For more information on Python, you can refer its official documentation on: <a href =\"https://docs.python.org/3/\">Python 3.13.2 Official Documentation</a>\n",
    "\n",
    "<li><b>HTML5:</b> Hypertext Markup Language (HTML) is the standard markup language for documents designed to be displayed in a web browser. It defines the content and structure of web content. It is often assisted by technologies such as Cascading Style Sheets (CSS) and scripting languages such as JavaScript, a programming language.<br>\n",
    "HTML elements are the building blocks of HTML pages. With HTML constructs, images and other objects such as interactive forms may be embedded into the rendered page. HTML provides a means to create structured documents by denoting structural semantics for text such as headings, paragraphs, lists, links, quotes, and other items.<br>\n",
    "There are many features of HTML language. Some of them are:\n",
    "<ul style=\"font-family: 'Baskerville Old Face'; font-size: 18px;\">\n",
    "<li>Webpage Development: <i>It helps to create structured content on webpages</i></li>\n",
    "<li>Creating UI (User-Interface) - <i>You can create forms like quizzes, surveys in HTML5 with help of form tag.</i></li>\n",
    "<li>Web Applications - <i>Platforms like Google Docs, Gmail use HTML along with JavaScript frameworks to build dynamic web applications.</i></li>\n",
    "<li>Email templates - <i>It also helps in creating email templates</i></li>\n",
    "<li>API's Development - <i>Through HTML5, API's like Canva have been developed. </i></li>\n",
    "</ul>\n",
    "To know more about the HTML5 and coding in it you can refer the following link: <a href = \"https://www.w3schools.com/html/\">HTML5 by W3 Schools</a></li><br>\n",
    "<a id =\"Introduction to the Jinja2 Templating\">\n",
    "<p style=\"font-family: 'Baskerville Old Face'; text-align: justify; font-size: 20px; color: #000066\"><b>֍  Introduction to the Jinja2 Templating:</b></p></a>\n",
    "\n",
    "<p style=\"font-family: 'Baskerville Old Face'; text-align: justify; font-size: 18px;\"> \n",
    "Jinja2 Templating is a templating engine for Python that allows us to create dynamic webpages, websites by merging Python data with other web developing languages like HTML, XML etc.It is the part of Python library that handles the designs of the webpages. It is a bridge that connects Python's codes to the front-end design that makes the web page look attractive and make it easy to visualize codes easily.<br><br>\n",
    "<figure style=\"text-align: center;\">\n",
    "    <center><img src=\"https://miro.medium.com/v2/resize:fit:539/0*gQQjuzt6IM5TXyV-.jpg\" alt=\"Jinja2\" width=\"500\"></center>\n",
    "    <figcaption style=\"font-size: 12px; font-style: italic; color: gray;\">\n",
    "        🔗 Reference: <a href=\"https://miro.medium.com/v2/resize:fit:539/0*gQQjuzt6IM5TXyV-.jpg\" target=\"_blank\">https://miro.medium.com/v2/resize:fit:539/0*gQQjuzt6IM5TXyV-.jpg</a>\n",
    "    </figcaption>\n",
    "</figure><br>\n",
    "<p style=\"font-family: 'Baskerville Old Face'; text-align: justify; font-size: 18px;\"> \n",
    "Jinja2 is nothing but just a text rendering engine for Python. It is commonly used in web frameworks like <b> Django</b>,<b> Flask</b>, <b> Quarto </b>, <b> Ansible</b> etc. The basic principle to use Jinja2 is to capture business logic in the code while giving template designer tools to control flow and layout of the end document. <br>\n",
    "It is very popular because of its easy syntax and variety of features including:\n",
    "<ul style=\"font-family: 'Baskerville Old Face'; font-size: 18px;\">\n",
    "    <li>Variable Access</li>\n",
    "    <li>Control Structures (loops)</li>\n",
    "    <li>Macros (functions)</li>\n",
    "    <li>Filters</li>\n",
    "    <li>Inheritance</li>\n",
    "</ul></p>\n",
    "<p style=\"font-family: 'Baskerville Old Face'; text-align: justify; font-size: 20px;\">\n",
    "    <a id= \"Why to Use Jinja2 Template?\">\n",
    "    <b>&rarr;  Why to Use Jinja2 Template?</b><br></p></a>\n",
    "    <p style=\"font-family: 'Baskerville Old Face'; text-align: justify; font-size: 18px;\"> \n",
    "    Jinja2 templating in Python helps a lot in Python as it has a great number of features. Some of them are:\n",
    "    <ul style=\"font-family: 'Baskerville Old Face'; font-size: 18px;\">\n",
    "    <li>Control structures (loops and conditional statements)</li>\n",
    "    <li>Rich set of built-in filters and tests</li>\n",
    "    <li>Template inheritance</li>\n",
    "    <li>Macros</li>\n",
    "    <li>Support for custom filters</li>\n",
    "    <li>HTML escaping</li>\n",
    "    <li>Easy to debug</li>\n",
    "    <li>Configurable syntax</li>\n",
    "    </ul>\n",
    "</p>\n",
    "<p style=\"font-family: 'Baskerville Old Face'; text-align: justify; font-size: 18px;\">\n",
    "The syntax of Jinja2 is heavily influenced by Django and Python making it more familiar for those who know Python very well. Let's see an example that how we will use Jinja2 Templating:"
   ]
  },
  {
   "cell_type": "code",
   "execution_count": 3,
   "id": "54237209-ab44-4f82-909d-d364da81ea0a",
   "metadata": {},
   "outputs": [
    {
     "name": "stdout",
     "output_type": "stream",
     "text": [
      "Hello, Pallav! Welcome to IIT Gandhinagar.\n"
     ]
    }
   ],
   "source": [
    "from jinja2 import Template\n",
    "\n",
    "template = Template(\"Hello, {{ name }}! Welcome to {{ platform }}.\")\n",
    "output = template.render(name=\"Pallav\", platform=\"IIT Gandhinagar\")\n",
    "print(output)"
   ]
  },
  {
   "cell_type": "markdown",
   "id": "a9828c80-acc5-4145-875d-c44c2de05220",
   "metadata": {},
   "source": [
    "<p style=\"font-family: 'Baskerville Old Face'; text-align: justify; font-size: 20px;\">\n",
    "    <a id = \"Mechanism (Working) of Jinja2 Template\">\n",
    "    <b>&rarr;  Mechanism (Working) of Jinja2 Template:</b><br></a></p>\n",
    "<p style=\"font-family: 'Baskerville Old Face'; text-align: justify; font-size: 18px;\">\n",
    "So, Jinja2 is a templating engine for Python that helps in dynamically generating content, usually HTML pages, by combining templates with data. In simple words, Jinja2 acts as a bridge between Python data and HTML templates, i.e., we can use html tags within Python codes which will help in designing of webpages using python.<br>\n",
    "So the basic working of Jinja2 starts with requirement of two core elements:\n",
    "<ol style=\"font-family: 'Baskerville Old Face'; font-size: 18px;\">\n",
    "    <li>Template</li>\n",
    "    <li>Data</li>\n",
    "</ol>\n",
    "<p style=\"font-family: 'Baskerville Old Face'; text-align: justify; font-size: 18px;\">\n",
    "We provide the template and data to the Jinja rendering engine as input which then combines them and gives output as text or text file. So we all have doubt that what is actually this template and data. \n",
    " <center><img src=\"https://media.geeksforgeeks.org/wp-content/uploads/20231007002636/renderingEngineExplanation.png\" alt=\"Jinja2\" width=\"500\"></center>\n",
    "    <figcaption style=\"font-size: 12px; font-style: italic; color: gray; text-align: center;\">\n",
    "       🔗 Reference: <a href=\"https://media.geeksforgeeks.org/wp-content/uploads/20231007002636/renderingEngineExplanation.png\" target=\"_blank\">https://media.geeksforgeeks.org/wp-content/uploads/20231007002636/renderingEngineExplanation.png</a>\n",
    "    </figcaption>\n",
    "</figure><br>\n",
    "<p style=\"font-family: 'Baskerville Old Face'; text-align: justify; font-size: 18px;\">\n",
    "So let's discuss them:</p>\n",
    "<ol style=\"font-family: 'Baskerville Old Face'; font-size: 18px;\">\n",
    "    <li><b>Template:</b> A template is nothing nut just a <b>text file</b> defining the structure of document (that will be processed (rendered)) with Jinja syntax at places where we want to work with data. These are HTML files mixed with Jinja2 syntax that act as placeholders for dynamic data. <br>\n",
    "    There are many key syntaxes in templates like:\n",
    "    <ul style=\"font-family: 'Baskerville Old Face'; font-size: 18px;\">\n",
    "        <li> {{ ... }} &rarr; For inserting variables or expressions</li>\n",
    "        <li> {% ... %} &rarr; For logic statements like loops & conditionals</li>\n",
    "        <li> {# ... #} &rarr; For comments (won't appear in output)</li>\n",
    "    </li></ul>\n",
    "    <li><b>Data: </b>Data is just the values like dictionary in python, JSON file etc. that has to be inserted into template. Jinja2 doesn't care where the data comes from, this could come from <a href=\"https://www.w3schools.com/whatis/whatis_json.asp\">JSON (JavaScript Object Notation) </a> returned by some <a href = \"https://www.geeksforgeeks.org/what-is-an-api/\">API (Application Programming Interface)</a> , be loaded from static <a href =\"https://www.tutorialspoint.com/yaml/index.htm\"> YAML (YAML Ain't Markup Language)</a> file, or simply be a Python Dict defined in our app.</li>\n",
    "    <li><b>Rendering the data:</b> So rendering means that we combine templates and data to get the final document.</li>\n",
    "</ol>\n",
    "</p>\n",
    "<p style=\"font-family: 'Baskerville Old Face'; text-align: justify; font-size: 18px;\">\n",
    "So the rendering engine uses the data and plugs it into the template as specified in it to create the output text. The templates do not require any special extension or any extension at all. But it is suggested to use \".jinja\" extension because this would be useful to identify the files and if you are using IDEs (Integrated development Environments) this would be useful to make them understand that it is a Jinja file. In exceptional cases, like operating with web Frameworks like Flask or Django, we can use \".html\" extension which offers extra advantages in that environment like html escaping.\n",
    "</p>\n",
    "\n",
    "<p style=\"font-family: 'Baskerville Old Face'; text-align: justify; font-size: 18px;\"> \n",
    "This was all about the Introduction to the Jinja2 Templating. Let's now start coding in Python and use it to develop beautiful webpages.\n",
    "\n",
    "<a id = \"Installation & Setup of the Jinja2 in Python\">\n",
    "<p style=\"font-family: 'Baskerville Old Face'; text-align: justify; font-size: 20px; color: #000066\"><b>֍  Installation & Setup of the Jinja2 in Python:</b></p></a>\n",
    "\n",
    "<p style=\"font-family: 'Baskerville Old Face'; text-align: justify; font-size: 18px;\">\n",
    "So, the requirements as per software for Jinja2 Templating are:<br>\n",
    "<ol style=\"font-family: 'Baskerville Old Face'; font-size: 18px;\">\n",
    "<li><b>Python:</b> <br>\n",
    "So firstly we need to have Python programming platform in our computer to start Jinja2 templating. So we can easily download Python by many methods as shown below:\n",
    "<ul style=\"font-family: 'Baskerville Old Face'; font-size: 18px;\">\n",
    "    <li><b>Python IDLE:</b> We can easily download Python from the official website. The link for downloading is given below:<br>\n",
    "        🔗 Link: <a href=\"https://www.python.org/downloads/\"> https://www.python.org/downloads/</a></li>\n",
    "    <li><b>Anaconda Navigator:</b> Anaconda is the hub of all Python Platforms. It includes Spyder IDE, Jupyter Notebook, Jupyter Lab, Powershell, PyScript, and many other platforms, and has a huge number of Python libraries including pandas and matplotlib already installed. This is the most recommended one. The link for download is given below:<br>\n",
    "        🔗 Link: <a href=\"https://www.anaconda.com/download\"> https://www.anaconda.com/download</a></li>\n",
    "    <li><b>Visual Studio Code:</b> If we are talking about downloading Python platforms, and forgot to mention the hub of programming, then it is truly unfair. VS Code is the all-in-one platform for all languages starting from C, C++, Java, C#, Python, HTML5, and many more. It has very user-friendly syntax and many snippets that help in fast coding. The link for VS Code is given below:<br>\n",
    "        🔗 Link: <a href=\"https://code.visualstudio.com/download\"> https://code.visualstudio.com/download</a></li>\n",
    "</ul>\n",
    "</li>\n",
    "\n",
    "<li><b>Jinja2 Template:</b> So after installing Python Programming platform, we have to download Jinja2 Template in our platform. We can have various methods to download it but the best methods are two given below:\n",
    "<ul style=\"font-family: 'Baskerville Old Face'; font-size: 18px;\">\n",
    "    <li><b>Command Prompt/Terminal:</b> So open the command prompt of the Windows or MacBook you are using and add the following code:</li>\n",
    "\n",
    "<!-- Enhanced code block styling -->\n",
    "<pre style=\"background-color: #f5f5f5; padding: 12px; border-radius: 6px; border: 1px solid #ccc; font-size: 16px; overflow-x: auto;\">\n",
    "<code style=\"font-family: 'Baskerville Old Face'; font-size: 18px;background-color: #f5f5f5;\"># On Windows / MacBook\n",
    "py -m pip install jinja2\n",
    "</code>\n",
    "</pre><br>\n",
    "And for the Linux, you can use the following snippet:<br>\n",
    "<pre style=\"background-color: #f5f5f5; padding: 12px; border-radius: 6px; border: 1px solid #ccc; font-size: 16px; overflow-x: auto;\">\n",
    "<code style=\"font-family: 'Baskerville Old Face'; font-size: 18px;background-color: #f5f5f5;\">\n",
    "# On Linux\n",
    "python3 -m pip install jinja2\n",
    "</code>\n",
    "</pre><br>\n",
    "<li><b>Anaconda Navigator: </b>If you are using Anaconda Navigator, then you have to open the base(root) terminal in the environments section and them add the following code to install the Jinja2 Template:<br>\n",
    "<!-- Enhanced code block styling -->\n",
    "<pre style=\"background-color: #f5f5f5; padding: 12px; border-radius: 6px; border: 1px solid #ccc; font-size: 16px; overflow-x: auto;\">\n",
    "<code style=\"font-family: 'Baskerville Old Face'; font-size: 18px;background-color: #f5f5f5;\">\n",
    "conda install anaconda::jinja2\n",
    "</code>\n",
    "</pre><br></li>\n",
    "</ul>\n",
    "</ol>\n",
    "</p>\n",
    "<p style=\"font-family: 'Baskerville Old Face'; font-size: 18px;\">\n",
    "So, once we are done with the installation, let's check if our Jinja2 is properly setup or not. So for that firstly, let's check it's version:"
   ]
  },
  {
   "cell_type": "code",
   "execution_count": 5,
   "id": "74e82e50-2fa2-45b4-b6bd-37bbc5fe06db",
   "metadata": {},
   "outputs": [
    {
     "name": "stdout",
     "output_type": "stream",
     "text": [
      "Jinja2 version: 3.1.5\n"
     ]
    }
   ],
   "source": [
    "import jinja2  # import helps to add the required library\n",
    "print(\"Jinja2 version:\", jinja2.__version__)  # .__version__ is used to get version of the library"
   ]
  },
  {
   "cell_type": "markdown",
   "id": "4d22dac1-eacb-4d1c-ac10-c7042fc5cef6",
   "metadata": {},
   "source": [
    "<p style=\"font-family: 'Baskerville Old Face'; font-size: 18px;\">\n",
    "So we got our version of Jinja2 as 3.1.5. Let's quickly check if it is working or not by writing a very simple code:"
   ]
  },
  {
   "cell_type": "code",
   "execution_count": 7,
   "id": "fac3fd44-2f80-47e9-a676-b722739eb7e6",
   "metadata": {},
   "outputs": [
    {
     "name": "stdout",
     "output_type": "stream",
     "text": [
      "Hello, World!\n"
     ]
    }
   ],
   "source": [
    "from jinja2 import Template\n",
    "\n",
    "template = Template(\"Hello, {{ name }}!\")  # Creating a template\n",
    "rendered = template.render(name=\"World\")   # Rendering (combining) data (world) with template)\n",
    "print(rendered)"
   ]
  },
  {
   "cell_type": "markdown",
   "id": "8b482ead-2c5e-4066-8edf-31842b339cba",
   "metadata": {},
   "source": [
    "<p style=\"font-family: 'Baskerville Old Face'; font-size: 18px;\">\n",
    "So if we got this output successfully, we have perfectly set up the Jinja2 Template and are now ready to dive deep into the use of Jinja2 templating for web design.\n",
    "One thing we should note that: <br>\n",
    "Jinja2 is widely utilized in web page development, particularly in Python-based web frameworks such as Flask and Django. While Jinja2 is not technically a front-end design software such as CSS or HTML, it is essentially being utilized as a templating engine, which renders HTML content from backend data.</p>\n",
    "\n",
    "<a id=\"Coding in Jinja2: Connecting Python and HTML\">\n",
    "<p style=\"font-family: 'Baskerville Old Face'; text-align: justify; font-size: 20px; color: #000066\"><b>֍  Coding in Jinja2: Connecting Python and HTML</b></p></a>\n",
    "\n",
    "<p style=\"font-family: 'Baskerville Old Face'; font-size: 18px;\"> \n",
    "So before going on to the Coding part, we should know that: Rendering a jinja template always results in some text and it invloves the following steps:\n",
    "<br><ol style=\"font-family: 'Baskerville Old Face'; font-size: 18px;\"> \n",
    "<li>Importing the required libraries/modules like Jinja2 or important functions from it by using from <'module'> import <'function'>.</li>\n",
    "<li>Creating a jinja2 rendering environment and store it in a variable. This environment will be used in further steps.</li>\n",
    "<li>Load the template in a variable.</li>\n",
    "<li>Render the template using <'template-object'>.render() function to obtain text.</li>\n",
    "<li>Print the rendered text to the screen or a file as suitable.</li>\n",
    "</ol>\n",
    "<p style=\"font-family: 'Baskerville Old Face'; font-size: 18px;\"> \n",
    "So this was the basic steps of how to use Jinja2 templating. Let's now go into coding part:<br>\n",
    "<p style=\"font-family: 'Baskerville Old Face'; text-align: justify; font-size: 20px;\">\n",
    "    <a id = \"Displaying texts messages Using Jinja2\">\n",
    "    <b>&rarr; Displaying texts messages Using Jinja2</b></a><br></p>\n",
    "<p style=\"font-family: 'Baskerville Old Face'; font-size: 18px;\"> \n",
    "So follow the steps given below to print required statement using Jinja2:<br>\n",
    "<ol style=\"font-family: 'Baskerville Old Face'; font-size: 18px;\"> \n",
    "<li>Create a folder named Jinja2 Templating where all jinja, python, text files will be stored</li>\n",
    "<li>Create a text file of name \"Welcome to Jinja\" and add the text to be printed (here \"Welcome to Python - HTML Interface: Jinja2 Template\" </li>\n",
    "<li>Save the file as extension <b>.jinja</b> (Extension of jinja2 file)</li>\n",
    "<li>Import the library and create an environment variable env which will include the path to folder in which your jinja file is present</li>\n",
    "<li>Then render the Jinja file using env,get_template(<'file name'>)</li>\n",
    "<li> Print it</li>\n",
    "</ol>"
   ]
  },
  {
   "cell_type": "code",
   "execution_count": 9,
   "id": "a3c96542-7425-43ed-91e5-dfabd8475775",
   "metadata": {},
   "outputs": [
    {
     "name": "stdout",
     "output_type": "stream",
     "text": [
      "Welcome to Python - HTML Interface: Jinja2 Template\n"
     ]
    }
   ],
   "source": [
    "from jinja2 import Environment, FileSystemLoader \n",
    "env = Environment(loader = FileSystemLoader('.')) # . points to the current directory  \n",
    "template = env.get_template('Welcome to Jinja.jinja')\n",
    "output = template.render()\n",
    "print(output)"
   ]
  },
  {
   "cell_type": "markdown",
   "id": "1bfcc5d8-9a4d-46df-b239-09f30a6b09e0",
   "metadata": {},
   "source": [
    "<p style=\"font-family: 'Baskerville Old Face'; font-size: 18px;\"> \n",
    "It is important for us to know why we used such functions. So let's understand this code deeply:<br>\n",
    "<table style=\"width:100%; border-collapse: collapse; text-align: left; border: 2px solid #000;\">\n",
    "  <tr style=\"background-color: #f2f2f2;\">\n",
    "    <th style=\"padding: 8px; border: 2px solid #000;font-family: 'Baskerville Old Face';text-align: center\">Function</th>\n",
    "    <th style=\"padding: 8px; border: 2px solid #000;font-family: 'Baskerville Old Face';text-align: center\">Purpose</th>\n",
    "  </tr>\n",
    "  <tr>\n",
    "    <td style=\"padding: 8px; border: 2px solid #000;font-family: 'Baskerville Old Face';\">Environment()</td>\n",
    "    <td style=\"padding: 8px; border: 2px solid #000;font-family: 'Baskerville Old Face';\">Acts as the <b>core</b> of Jinja2 — manages templates and their settings.</td>\n",
    "  </tr>\n",
    "  <tr>\n",
    "    <td style=\"padding: 8px; border: 2px solid #000;font-family: 'Baskerville Old Face';\">FileSystemLoader(&lt;path&gt;)</td>\n",
    "    <td style=\"padding: 8px; border: 2px solid #000;font-family: 'Baskerville Old Face';\">Tells Jinja2 where to find the templates. Points to the <b>template directory</b>.</td>\n",
    "  </tr>\n",
    "  <tr>\n",
    "    <td style=\"padding: 8px; border: 2px solid #000;font-family: 'Baskerville Old Face';\">env.get_template(&lt;file&gt;)</td>\n",
    "    <td style=\"padding: 8px; border: 2px solid #000;font-family: 'Baskerville Old Face';\">Fetches the specific template you want to render.</td>\n",
    "  </tr>\n",
    "  <tr>\n",
    "    <td style=\"padding: 8px; border: 2px solid #000;font-family: 'Baskerville Old Face';\">template.render()</td>\n",
    "    <td style=\"padding: 8px; border: 2px solid #000;font-family: 'Baskerville Old Face';\">Converts the template into a final text output.</td>\n",
    "  </tr>\n",
    "  <tr>\n",
    "    <td style=\"padding: 8px; border: 2px solid #000;font-family: 'Baskerville Old Face';\">print(output)</td>\n",
    "    <td style=\"padding: 8px; border: 2px solid #000;font-family: 'Baskerville Old Face';\">Displays the rendered output on the screen.</td>\n",
    "  </tr>\n",
    "</table>\n",
    "\n",
    "<p style=\"font-family: 'Baskerville Old Face'; font-size: 18px;\"> \n",
    "So this is how Jinja2 works:<br>\n",
    "<p style=\"font-family: 'Baskerville Old Face'; font-size: 18px;text-align: center\">Template  &rarr; Render &rarr;  Output </p>\n",
    "\n",
    "<p style=\"font-family: 'Baskerville Old Face'; font-size: 18px;\"> \n",
    "Suppose if we don't want output in such form and require a text file. Then we can easily convert it into textfile using code:\n"
   ]
  },
  {
   "cell_type": "code",
   "execution_count": 11,
   "id": "f4d2b702-2420-4e82-b8e2-acf04c510db6",
   "metadata": {},
   "outputs": [],
   "source": [
    "with open(\"Welcome_Jinja2.txt\", 'w') as f:\n",
    "    print(output, file = f)"
   ]
  },
  {
   "cell_type": "markdown",
   "id": "88e4a2c3-a5ae-40de-9be3-0e6c1acd5800",
   "metadata": {},
   "source": [
    "<p style=\"font-family: 'Baskerville Old Face'; font-size: 18px;\">\n",
    "And this will create the new file \"Welcome_Jinja2.txt\" as text file in Jinja2 Templating folder. The format of open( ) is like open(<'Address of folder where rendered file is to be saved.>/<'filename.txt'>)<br>\n",
    "So now we learnt how to print a Jinja file in python and to store it in text form. Let's see how we cam format the template but before it we should know <b>Basic syntaxing</b> in Jinja2.</p>\n",
    "\n",
    "<a id = \"Basic Syntaxes and Functions in Jinja2\">\n",
    "<p style=\"font-family: 'Baskerville Old Face'; text-align: justify; font-size: 20px;\">\n",
    "    <b>&rarr; Basic Syntaxes and Functions in Jinja2</b><br></p></a>\n",
    "\n",
    "<p style=\"font-family: 'Baskerville Old Face'; text-align: justify; font-size: 18px;\">\n",
    "The basic functions and syntaxes that we can do and use in Jinja2 are:<br>\n",
    "<ol style=\"font-family: 'Baskerville Old Face'; font-size: 18px;\"> \n",
    "<li>Delimiters: Delimiters in Jinja2 are special characters that indicate where dynamic content, logic, or expressions should be inserted in templates. They assist Jinja2 in determining static text (such as HTML, which we are soon going to see) and template code. There are mainly three types of delimiters used in Jinja2:<br>\n",
    "<table style=\"width: 100%; border-collapse: collapse; font-family: 'Baskerville Old Face'; font-size: 18px;\">\n",
    "  <tr style=\"background-color: #f2f2f2;\">\n",
    "    <th style=\"padding: 8px; border: 2px solid #000;font-family: 'Baskerville Old Face';text-align: center\">Delimiter</th>\n",
    "    <th style=\"padding: 8px; border: 2px solid #000;font-family: 'Baskerville Old Face';text-align: center\">Purpose</th>\n",
    "    <th style=\"padding: 8px; border: 2px solid #000;font-family: 'Baskerville Old Face';text-align: center\">When to use?</th>\n",
    "    <th style=\"padding: 8px; border: 2px solid #000;font-family: 'Baskerville Old Face';text-align: center\">Example</th>\n",
    "  </tr>\n",
    "  <tr>\n",
    "    <td style=\"padding: 8px; border: 2px solid #000;font-family: 'Baskerville Old Face';\">{{...}}</td>\n",
    "    <td style=\"padding: 8px; border: 2px solid #000;font-family: 'Baskerville Old Face';\">It is used to output the variables or run simple expressions, i.e., it functions similar to Python's f string.</td>\n",
    "      <td style=\"padding: 8px; border: 2px solid #000;font-family: 'Baskerville Old Face';\">It is used when we have some function outputs, outputs of variables etc.</td>\n",
    "    <td style=\"padding: 8px; border: 2px solid #000;font-family: 'Baskerville Old Face';\">Hello {{name}}! &rarr;  <'template'>.render (name = \"Salman Khan\") &rarr; Hello Salman Khan! </td>\n",
    "  </tr>\n",
    "  <tr>\n",
    "    <td style=\"padding: 8px; border: 2px solid #000;font-family: 'Baskerville Old Face';\">{%...%}</td>\n",
    "    <td style=\"padding: 8px; border: 2px solid #000;font-family: 'Baskerville Old Face';\">It is used to create loops and conidtional blocks, i.e., for logics in Jinja2 templates.</b>.</td>\n",
    "        <td style=\"padding: 8px; border: 2px solid #000;font-family: 'Baskerville Old Face';\">It is used when we have control structures, loops or conditional blocks (if-elif-else)</td>\n",
    "        <td style=\"padding: 8px; border: 2px solid #000;font-family: 'Baskerville Old Face';\">{% for item in list %}</td>\n",
    "  </tr>\n",
    "  <tr>\n",
    "    <td style=\"padding: 8px; border: 2px solid #000;font-family: 'Baskerville Old Face';\">{# ... #}</td>\n",
    "    <td style=\"padding: 8px; border: 2px solid #000;font-family: 'Baskerville Old Face';\">It is used to add comments in the Jinja2 template.</td>\n",
    "    <td style=\"padding: 8px; border: 2px solid #000;font-family: 'Baskerville Old Face';\">It is used when we want to add notes or comments in templates for readers to understand code easily.</td>\n",
    "    <td style=\"padding: 8px; border: 2px solid #000;font-family: 'Baskerville Old Face';\">{# This is a comment #}</td>\n",
    "  </tr>\n",
    "</table>\n",
    "</li>\n",
    "<li><B>Expressions:</B> As we saw in above table, delimiter {{...}} acts as f string. The data which we write inside the {{...}} delimter is called the expressions. We pass expressions in the template and then to get them as output, we render our template.So we can say that expressions are just data of Jinja2 Template. </li>\n",
    "<li><b>Decisions: </b>The conditions if-elif-else come under this category. The syntax of using the conditionals is:<br>\n",
    "<pre style=\"background-color: #f5f5f5; padding: 12px; border-radius: 6px; border: 1px solid #ccc; font-size: 16px; overflow-x: auto;\">\n",
    "<code style=\"font-family: 'Baskerville Old Face'; font-size: 18px;background-color: #f5f5f5;\">\n",
    "{%  if  [condition]  %}  [if block]\n",
    "{% elif  [condition2]  %}  [elif block]\n",
    "<% else %>  [else block]\n",
    "<%  endif  %>\n",
    "</code>\n",
    "</pre><br></li>\n",
    "<P style=\"font-family: 'Baskerville Old Face'; font-size: 18px;\"> \n",
    "So the text only inside that respectibe block is executred whose conditions met.\n",
    "<li><b>Loops: </b>So again Jinja2 has for loop which is same as Python. It's syntax is:<br>\n",
    "<pre style=\"background-color: #f5f5f5; padding: 12px; border-radius: 6px; border: 1px solid #ccc; font-size: 16px; overflow-x: auto;\">\n",
    "<code style=\"font-family: 'Baskerville Old Face'; font-size: 18px;background-color: #f5f5f5;\">\n",
    "{% for [variable name] in [sequence] %}\n",
    "[block inside the loops]\n",
    "{% endfor %}\n",
    "</code>\n",
    "</pre><br></li>\n",
    "</li>\n",
    "</ol>\n",
    "<P style=\"font-family: 'Baskerville Old Face'; font-size: 18px;\"> \n",
    "So this was all about the syntax of Jinja2 Template.\n",
    "\n",
    "<a id = \"Formatting the Template\">\n",
    "<p style=\"font-family: 'Baskerville Old Face'; text-align: justify; font-size: 20px;\">\n",
    "    <b>&rarr; Formatting the Template</b><br></p></a>\n",
    "\n",
    "<p style=\"font-family: 'Baskerville Old Face'; font-size: 18px;\"> \n",
    "Here, we will learn that if suppose I have a template then how can I add text to it using Python with help of Jinja2. And here we will use the basic syntaxing of Jinja2 which we learnt in previous section.<br>\n",
    "Now suppose I want to print Hello <'name'>! where name is given by the user using Jinja2. So we can create a template \"Hello World\" having format \"Hello {{name}}!\" as {{...}} delimiter works as f string. So the code to format the template \"Hello World\" will be:"
   ]
  },
  {
   "cell_type": "code",
   "execution_count": 13,
   "id": "0aa98288-dbbf-4a91-8b93-e75949499412",
   "metadata": {},
   "outputs": [
    {
     "name": "stdin",
     "output_type": "stream",
     "text": [
      "Enter the name to be added in the Jinja file:  Pallav Biyala\n"
     ]
    },
    {
     "name": "stdout",
     "output_type": "stream",
     "text": [
      "Hello Pallav Biyala!\n"
     ]
    }
   ],
   "source": [
    "from jinja2 import Environment, FileSystemLoader \n",
    "\n",
    "# Loading the Environment\n",
    "env = Environment(loader = FileSystemLoader('.')) # Takes it to the current directory  \n",
    "\n",
    "# Loading the template\n",
    "template = env.get_template('Hello World.jinja')\n",
    "\n",
    "# Getting input from the user\n",
    "n = input(\"Enter the name to be added in the Jinja file: \")\n",
    "\n",
    "# Rendering the data and template\n",
    "output = template.render(name=n)\n",
    "\n",
    "# Printing the output\n",
    "print(output)"
   ]
  },
  {
   "cell_type": "markdown",
   "id": "fa4a158e-7281-49dd-9d99-f28f75379117",
   "metadata": {},
   "source": [
    "<p style=\"font-family: 'Baskerville Old Face'; font-size: 18px;\"> \n",
    "We can also create a text file as we created earlier by same method. So now we know how to format template, display Jinja2.<br> Now comes the main part of Jinja2, i.e., HTML formatting in Python using Jinja2\n",
    "\n",
    "<a id = \"HTML Webpages with Python using Jinja2\">\n",
    "<p style=\"font-family: 'Baskerville Old Face'; text-align: justify; font-size: 20px;\">\n",
    "    <b>&rarr; HTML Webpages with Python using Jinja2:</b><br></p></a>\n",
    "<p style=\"font-family: 'Baskerville Old Face'; text-align: justify; font-size: 18px;\">\n",
    "So the concepts which we learnt now are enough to create a HTML Page which can actually render table of a given number. To render an HTML page, we only have to know how to do coding using HTML. So, we just need to have the HTML markup inside the Jinja Template where required and then can save the rendered jinja2 text to an external file with a .html extension. This will create a webpage.<br>\n",
    "So let's create a jinja file \"Table of number n\" which will have the following HTML Code:\n"
   ]
  },
  {
   "cell_type": "markdown",
   "id": "013ca99f-af98-4e6f-832a-cbcac03204d6",
   "metadata": {},
   "source": [
    "<pre style=\"background-color: #f5f5f5; padding: 12px; border-radius: 6px; border: 1px solid #ccc; font-size: 16px; overflow-x: auto;\">\n",
    "<code style=\"background-color: #f5f5f5; font-family: \"Baskerville Old Face\">\n",
    "&lt;!DOCTYPE HTML&gt;\n",
    "&lt;html&gt;\n",
    "    &lt;head&gt;\n",
    "        &lt;title&gt;Table of {{ '{{ number }}' }}&lt;/title&gt;\n",
    "    &lt;/head&gt;\n",
    "    &lt;body&gt;\n",
    "        &lt;h3&gt;Table of {{ '{{ number }}' }} rendered with Jinja2 Templating:&lt;/h3&gt;\n",
    "        {% raw %}{% for i in range(1, 11) %}{% endraw %}\n",
    "            &lt;p&gt;{{ '{{ number }}' }} × {{ '{{ i }}' }} = {{ '{{ number * i }}' }}&lt;/p&gt;\n",
    "        {% raw %}{% endfor %}{% endraw %}\n",
    "    &lt;/body&gt;\n",
    "&lt;/html&gt;\n",
    "</code>\n",
    "</pre>"
   ]
  },
  {
   "cell_type": "markdown",
   "id": "fa3d2ca0-edee-4e26-9932-59385767d7e0",
   "metadata": {},
   "source": [
    "<p style=\"font-family: 'Baskerville Old Face'; font-size: 18px;\"> \n",
    "And save it as \"Table of number n.jinja\". Then we can directly write the python code to print table of any number:"
   ]
  },
  {
   "cell_type": "code",
   "execution_count": 16,
   "id": "3f68468f-a4c3-4463-b8f7-386487699734",
   "metadata": {},
   "outputs": [
    {
     "name": "stdout",
     "output_type": "stream",
     "text": [
      "<!DOCTYPE HTML>\n",
      "<html>\n",
      "    <head>\n",
      "        <title>\n",
      "            Table of 10\n",
      "        </title>\n",
      "    </head>\n",
      "    <body>\n",
      "        <h3> Table of 10 rendered with Jinja2 Templating is:</h3>\n",
      "        \n",
      "        <p>10 × 1 = 10</p>\n",
      "        \n",
      "        <p>10 × 2 = 20</p>\n",
      "        \n",
      "        <p>10 × 3 = 30</p>\n",
      "        \n",
      "        <p>10 × 4 = 40</p>\n",
      "        \n",
      "        <p>10 × 5 = 50</p>\n",
      "        \n",
      "        <p>10 × 6 = 60</p>\n",
      "        \n",
      "        <p>10 × 7 = 70</p>\n",
      "        \n",
      "        <p>10 × 8 = 80</p>\n",
      "        \n",
      "        <p>10 × 9 = 90</p>\n",
      "        \n",
      "        <p>10 × 10 = 100</p>\n",
      "        \n",
      "    </body>\n",
      "</html>\n"
     ]
    }
   ],
   "source": [
    "from jinja2 import Environment, FileSystemLoader \n",
    "env = Environment(loader = FileSystemLoader('C:/Programming_Files_Python_C_C++/Python Files/Jinja2 Templating/'))  \n",
    "template = env.get_template('Table of number n.jinja')\n",
    "output = template.render(number = 10)\n",
    "print(output)"
   ]
  },
  {
   "cell_type": "markdown",
   "id": "771ec7bb-59a6-459c-8fdf-4237fab0f9f0",
   "metadata": {},
   "source": [
    "<p style=\"font-family: 'Baskerville Old Face'; font-size: 18px;\"> \n",
    "And to create a webpage of it, we can convert it into html file by:"
   ]
  },
  {
   "cell_type": "code",
   "execution_count": 18,
   "id": "eab5f71d-f24f-4963-a6c7-f815e1c2ed9c",
   "metadata": {},
   "outputs": [],
   "source": [
    "with open(\"C:/Programming_Files_Python_C_C++/Python Files/Jinja2 Templating//Table of number n.html\", 'w') as f:\n",
    "    print(output, file = f)"
   ]
  },
  {
   "attachments": {},
   "cell_type": "markdown",
   "id": "a9b9bc85-011a-44a2-bc2b-d2bb157b40d1",
   "metadata": {},
   "source": [
    "<p style=\"font-family: 'Baskerville Old Face'; font-size: 18px;\"> \n",
    "And if we see then in the folder \"C:/Programming_Files_Python_C_C++/Python Files/Jinja2 Templating/\", a new file Table of number n.html will be formed which will open as a webpage.The output will look like: <br>\n",
    "<center><img src = \"Table of number n.jpg\" style=\"border: 3px solid black\"></center>\n",
    "<p style=\"font-family: 'Baskerville Old Face'; font-size: 18px;\">\n",
    "The output of the webpage formed can be accessed from here:<br>\n",
    "<a href=\"Table of number n.html\" target=\"_blank\">Table of number n.html</a>"
   ]
  },
  {
   "cell_type": "markdown",
   "id": "863b00d3-9312-4d6b-ba51-19a9d07ae2be",
   "metadata": {},
   "source": [
    "<p style=\"font-family: 'Baskerville Old Face'; font-size: 18px;\"> \n",
    "Now we have a very basic knowledge that how HTML and Python can work hand in hand and Python can be used to create webpages. Let's see more key features of Jinja2 Templating. "
   ]
  },
  {
   "cell_type": "markdown",
   "id": "7b333228-b16b-4d83-9aab-a486cbaad90f",
   "metadata": {},
   "source": [
    "<a id = \"Key Features in Jinja2 Templating\">\n",
    "    <p style=\"font-family: 'Baskerville Old Face'; text-align: justify; font-size: 20px; color: #000066\"><b>֍  Key Features in Jinja2 Templating</b></p></a>"
   ]
  },
  {
   "cell_type": "markdown",
   "id": "322a998b-8871-487c-a673-31cca6797bfd",
   "metadata": {},
   "source": [
    "<p style=\"font-family: 'Baskerville Old Face'; font-size: 18px;\"> \n",
    "Jinja2 Templating provides many features that can be used for many puroposes. Let's see some key features of Jinja2 Templating:"
   ]
  },
  {
   "cell_type": "markdown",
   "id": "3aab43d5-2d90-4a96-8404-a60c9300fc99",
   "metadata": {},
   "source": [
    "<a id = \"Variable Substitution\">\n",
    "<P style=\"font-family: 'Baskerville Old Face'; font-size: 18px;\"> \n",
    "<b>1. Variable Substitution:</b><br></a>\n",
    "<P style=\"font-family: 'Baskerville Old Face'; font-size: 18px;\"> \n",
    "We can substitute or insert values of variables into the templates, i.e., we can render them. This is called <B>Variable substitution</B>. We can do this by adding delimiter {{...}} in the HTML Template and then rendering them with data in python using .render()."
   ]
  },
  {
   "cell_type": "markdown",
   "id": "c17c7243-f769-4ad2-98f2-543c55528238",
   "metadata": {},
   "source": [
    "<a id = \"Control Structures (Conditionals and Loops)\">\n",
    "<P style=\"font-family: 'Baskerville Old Face'; font-size: 18px;\"> \n",
    "<b>2. Control Structures (Conditionals and Loops):</b><br></a>\n",
    "<P style=\"font-family: 'Baskerville Old Face'; font-size: 18px;\"> \n",
    "We are also familiar with this feature of Jinja2. We can use loops (for) and conditionals (if-elif-else) in our templates and then use .render to fill the values. We successfully created the Multiplication table using it. <br>\n",
    "So now let's do something creative. Let's create a webpage using the above features in which a student can enter his name and then can add his details of institute and stream in the webpage created. Let's do it!<br>\n",
    "So create a HTML file \"IITian students.jinja\" with the following html code:"
   ]
  },
  {
   "cell_type": "markdown",
   "id": "ae866950-d855-4197-9118-87097f26c8e8",
   "metadata": {},
   "source": [
    "<pre style=\"background-color: #f5f5f5; padding: 12px; border-radius: 6px; border: 1px solid #ccc; font-size: 16px; overflow-x: auto;\">\n",
    "<code style=\"background-color: #f5f5f5; font-family: \"Baskerville Old Face\">\n",
    "&lt;!DOCTYPE html&gt;\n",
    "&lt;html&gt;\n",
    "    &lt;head&gt;\n",
    "        &lt;title&gt;IITian Student Information&lt;/title&gt;\n",
    "        &lt;style type=\"text/css\"&gt;\n",
    "            body { background-color: #330033; }\n",
    "            p { font-family: 'Baskerville Old Face'; font-size: 18px; color: #9966cc; }\n",
    "            h1 { font-family: 'Baskerville Old Face'; font-size: 20px; color: #9966cc; text-align: center; }\n",
    "            ol { font-family: 'Baskerville Old Face'; font-size: 18px; color: #9966cc; }\n",
    "        &lt;/style&gt;\n",
    "    &lt;/head&gt;\n",
    "    &lt;body&gt;\n",
    "        &lt;h1&gt;IITian's Student Information&lt;/h1&gt;\n",
    "        &lt;form&gt;\n",
    "            &lt;ol&gt;\n",
    "                &lt;li&gt;Name: {{ '{{ name }}' }}&lt;/li&gt;\n",
    "                &lt;li&gt;Your Stream:&lt;br&gt;\n",
    "                    {% raw %}{% for stream in streams %}{% endraw %}\n",
    "                        &lt;input type=\"radio\" name=\"stream\" value=\"{{ '{{ stream }}' }}\"> {{ '{{ stream }}' }}&lt;br&gt;\n",
    "                    {% raw %}{% endfor %}{% endraw %}\n",
    "                &lt;/li&gt;\n",
    "                &lt;li&gt;IIT Name:&lt;br&gt;\n",
    "                    &lt;select name=\"iit_name\"&gt;\n",
    "                        {% raw %}{% for iit in iit_list %}{% endraw %}\n",
    "                            &lt;option value=\"{{ '{{ iit }}' }}\">{{ '{{ iit }}' }}&lt;/option&gt;\n",
    "                        {% raw %}{% endfor %}{% endraw %}\n",
    "                    &lt;/select&gt;\n",
    "                &lt;/li&gt;\n",
    "            &lt;/ol&gt;\n",
    "        &lt;/form&gt;\n",
    "    &lt;/body&gt;\n",
    "&lt;/html&gt;\n",
    "</code>\n",
    "</pre>\n"
   ]
  },
  {
   "cell_type": "markdown",
   "id": "db898fa0-13f0-4a3d-8a1d-1d6b6b687e10",
   "metadata": {},
   "source": [
    "<P style=\"font-family: 'Baskerville Old Face'; font-size: 18px;\"> \n",
    "The python code will be:"
   ]
  },
  {
   "cell_type": "code",
   "execution_count": 26,
   "id": "97fbcdab-96b8-42d9-a059-6aa838accc68",
   "metadata": {},
   "outputs": [
    {
     "name": "stdin",
     "output_type": "stream",
     "text": [
      "Enter your name to be added in file:  Peter Parker\n",
      "Enter the number of streams in your IIT:  4\n",
      "Enter the name of stream 1:  CSE\n",
      "Enter the name of stream 2:  EE\n",
      "Enter the name of stream 3:  ME\n",
      "Enter the name of stream 4:  CHE\n"
     ]
    },
    {
     "name": "stdout",
     "output_type": "stream",
     "text": [
      "HTML File successfully created\n"
     ]
    }
   ],
   "source": [
    "from jinja2 import Environment, FileSystemLoader\n",
    "\n",
    "# Step 1: Set up Jinja2 Environment\n",
    "env = Environment(loader=FileSystemLoader('.'))  # Current directory\n",
    "\n",
    "# Step 2: Load the HTML Template\n",
    "template = env.get_template('IITian students.jinja')\n",
    "\n",
    "# Step 3: Data to Pass to Template\n",
    "name = input(\"Enter your name to be added in file: \")\n",
    "\n",
    "iits = [\n",
    "    \"IIT Bombay\", \"IIT Delhi\", \"IIT Roorkee\", \"IIT Gandhinagar\", \n",
    "    \"IIT Kanpur\", \"IIT Kharagpur\", \"IIT Guwahati\", \"IIT Indore\", \n",
    "    \"IIT Ropar\", \"IIT Hyderabad\", \"IIT Madras\"\n",
    "]\n",
    "\n",
    "streams_n = int(input(\"Enter the number of streams in your IIT: \"))\n",
    "stream = []\n",
    "\n",
    "for i in range(streams_n):\n",
    "    stream_in_iit = input(f\"Enter the name of stream {i+1}: \")  \n",
    "    stream.append(stream_in_iit)\n",
    "\n",
    "data = {\n",
    "    \"name\": name,\n",
    "    \"streams\": stream,  \n",
    "    \"iit_list\": iits\n",
    "}\n",
    "\n",
    "# Step 4: Render the Template\n",
    "output = template.render(data)\n",
    "\n",
    "# Step 5: Save the Rendered HTML\n",
    "with open(\"IITian students.html\", \"w\") as file:\n",
    "    file.write(output)\n",
    "\n",
    "print(\"HTML File successfully created\")"
   ]
  },
  {
   "cell_type": "markdown",
   "id": "aad3a579-0384-4471-8fa2-8dafb59ee369",
   "metadata": {},
   "source": [
    "<P style=\"font-family: 'Baskerville Old Face'; font-size: 18px;\"> \n",
    "So this will create a new webpage in which student will see his/her name and can enter his/her stream and institute. We could also have taken it very easily to next level by creating a submit button through which user can submit the details. <br>\n",
    "The webpage formed will look like:\n",
    "<center><img src = \"IITian students.jpg\" style=\"border: 3px solid black\"></center>\n",
    "<p style=\"font-family: 'Baskerville Old Face'; font-size: 18px;\">\n",
    "The file created can be accessed from the below link:<br>\n",
    "<a href=\"IITian students.html\" target=\"_blank\">IITian students.html</a><br>\n",
    "So we saw how creatively we can use the variable insertion and control structures through jinja to create such webpages. Let's move to next feature to create such nice webpages."
   ]
  },
  {
   "cell_type": "markdown",
   "id": "f2b9cb70-2d88-40d5-bcfb-4086091fd587",
   "metadata": {},
   "source": [
    "<a id = \"Filters\">\n",
    "<P style=\"font-family: 'Baskerville Old Face'; font-size: 18px;\"> \n",
    "<b>3. Filters:</b><br></a>\n",
    "<P style=\"font-family: 'Baskerville Old Face'; font-size: 18px;\">\n",
    "Jinja2 also has the feature in which we can modify variables within the template by using custom filters as well as built-in filters. So like for example if I want that in a variable, only the first letter should be capiltalized, I can do this using filters in template. Also with help of filters, we can convert the text to uppercase, camelcase etc. It is also useful in cases when I want only limited significant digits,i.e., if I want only 2 digits after point, or like round it to 2 decimal places; I can directly use the filters available in Jinja2. <br>\n",
    "Some examples of filter are:\n",
    "<ol style=\"font-family: 'Baskerville Old Face'; font-size: 18px;\"> \n",
    "<li>{{ username | upper }}  &rarr; Converts text to uppercase</li>\n",
    "<li>{{ price | round(2) }}  &rarr; Rounds to 2 decimal places</li>\n",
    "<li>{{ name|replace(\"Ram\", \"Shyam\") }} &rarr; Replaces Ram with Shyam</li>\n",
    "<li>{{ name|truncate(5) }} &rarr; Limits the length of character to 5</li>\n",
    "</ol>\n",
    "<P style=\"font-family: 'Baskerville Old Face'; font-size: 18px;\"> \n",
    "Let's take an example. We'll create a list which will have a filter such that it will sort all its elements by itself. So the HTML code and python code to perform it is:"
   ]
  },
  {
   "cell_type": "markdown",
   "id": "f05e2d8f-e873-4eed-bd10-f5042562c11a",
   "metadata": {},
   "source": [
    "<pre style=\"background-color: #f5f5f5; padding: 12px; border-radius: 6px; border: 1px solid #ccc; font-size: 16px; overflow-x: auto;\">\n",
    "<code style=\"background-color: #f5f5f5; font-family: \"Baskerville Old Face\">\n",
    "&lt;ul&gt;\n",
    "    {% raw %}{% for item in numbers | sort %}{% endraw %}\n",
    "        &lt;li&gt;{{ '{{ item }}' }}&lt;/li&gt;\n",
    "    {% raw %}{% endfor %}{% endraw %}\n",
    "&lt;/ul&gt;\n",
    "</code>\n",
    "</pre>"
   ]
  },
  {
   "cell_type": "code",
   "execution_count": 29,
   "id": "a3b74fd0-09c8-48de-af5c-bd04f8b40adb",
   "metadata": {},
   "outputs": [
    {
     "name": "stdout",
     "output_type": "stream",
     "text": [
      "Sorted list generated in 'sorted_numbers.html'\n"
     ]
    }
   ],
   "source": [
    "from jinja2 import Environment, FileSystemLoader\n",
    "\n",
    "# Step 1: Set up Jinja2 Environment\n",
    "env = Environment(loader=FileSystemLoader('.'))  # Current directory\n",
    "\n",
    "# Step 2: Load the Template\n",
    "template = env.get_template('Filters Use.jinja')\n",
    "\n",
    "# Step 3: Pass Data to Template\n",
    "data = {\n",
    "    'numbers': [9, 3, 5, 1, 7, 2]\n",
    "}\n",
    "\n",
    "# Step 4: Render the Template with Data\n",
    "output = template.render(data)\n",
    "\n",
    "# Step 5: Save the Rendered HTML\n",
    "with open('sorted_numbers.html', 'w') as file:\n",
    "    file.write(output)\n",
    "\n",
    "print(\"Sorted list generated in 'sorted_numbers.html'\")"
   ]
  },
  {
   "attachments": {},
   "cell_type": "markdown",
   "id": "9c33a54e-efaa-4e84-ac32-bbcbd29945bc",
   "metadata": {},
   "source": [
    "<P style=\"font-family: 'Baskerville Old Face'; font-size: 18px;\"> \n",
    "So the webpage formed will have all its elements sorted. \n",
    "<br>\n",
    "The webpage formed will look like:\n",
    "<center><img src = \"sorted_numbers.jpg\" style=\"border: 3px solid black\"></center>\n",
    "<p style=\"font-family: 'Baskerville Old Face'; font-size: 18px;\">\n",
    "The link for the Webpage file is:<br>\n",
    "Link : <a href = \"sorted_numbers.html\">sorted_numbers.html</a>"
   ]
  },
  {
   "cell_type": "markdown",
   "id": "e5c9d8f0-8add-4f3f-96ac-0cc7a1ecf90f",
   "metadata": {},
   "source": [
    "<P style=\"font-family: 'Baskerville Old Face'; font-size: 18px;\"> \n",
    "So in simple words, Filters are tools that allow you to modify variables in templates before rendering them. They are similar to functions that can format data, manipulate strings, and perform operations directly inside templates. For more filters, you can refer the following link:<br>\n",
    "<a href = \"https://help.dashly.io/article/5146\">Filters in Jinja2</a><br>"
   ]
  },
  {
   "cell_type": "markdown",
   "id": "9d3ab4e5-e1f4-465e-829f-02627b47f3be",
   "metadata": {},
   "source": [
    "<a id =\"Macros\">\n",
    "<P style=\"font-family: 'Baskerville Old Face'; font-size: 20px;\"> \n",
    "<b>4. Macros:</b><br></a>\n",
    "<P style=\"font-family: 'Baskerville Old Face'; font-size: 18px;\"> \n",
    "Macros are very powerful tools in Jinja2. They are same as functions in programming languages like Python, C/C++ etc. and work on the principle of <b>DRY</b> (Don't Repeat Yourself). They help us to reuse the code and this helps us to make template look cleaner and more efficient to understand. Instead of writing same piece of code again and again, we can create a macro, define how it should run and then call it anytime when we want to use it. It reduces the lines of codes.<br>\n",
    "The basic syntax of Macros is:"
   ]
  },
  {
   "cell_type": "markdown",
   "id": "e8f300a7-ba66-4be3-9b4a-8385488051df",
   "metadata": {},
   "source": [
    "<pre style=\"background-color: #f5f5f5; padding: 12px; border-radius: 6px; border: 1px solid #ccc; font-size: 16px; overflow-x: auto;\">\n",
    "<code style=\"background-color: #f5f5f5; font-family: \"Baskerville Old Face\">\n",
    "{% raw %}{% macro macro_name(*args, **kwargs) %}{% endraw %}\n",
    "    &lt; macro body &gt;\n",
    "{% raw %}{% endmacro %}{% endraw %}\n",
    "</code>\n",
    "</pre>"
   ]
  },
  {
   "cell_type": "markdown",
   "id": "50e8a9ef-8f4b-4f7d-b2b4-6cbe585cccb6",
   "metadata": {},
   "source": [
    "<P style=\"font-family: 'Baskerville Old Face'; font-size: 18px;\"> \n",
    "Let's see how Macros can be used:<br>\n",
    "a) <b>Basic Macros:</b>"
   ]
  },
  {
   "cell_type": "markdown",
   "id": "c5831ce2-9768-497b-8389-3d39fab6308d",
   "metadata": {},
   "source": [
    "<pre style=\"background-color: #f5f5f5; padding: 12px; border-radius: 6px; border: 1px solid #ccc; font-size: 16px; overflow-x: auto;\">\n",
    "<code style=\"background-color: #f5f5f5; font-family: \"Baskerville Old Face\">\n",
    "{% raw %}{% macro greet(name) %}{% endraw %}\n",
    "    &lt;p&gt;Hello, {{ '{{ name }}' }}!&lt;/p&gt;\n",
    "{% raw %}{% endmacro %}{% endraw %}\n",
    "\n",
    "&lt;!-- Calling the Macro --&gt;\n",
    "{{ '{{ greet(\"Pallav\") }}' }}\n",
    "{{ '{{ greet(\"Sai Krishna\") }}' }}\n",
    "{{ '{{ greet(\"Ganesh\") }}' }}\n",
    "</code>\n",
    "</pre>"
   ]
  },
  {
   "cell_type": "markdown",
   "id": "96516f24-7326-4ad0-b3ec-f0b4e497d0f0",
   "metadata": {},
   "source": [
    "<P style=\"font-family: 'Baskerville Old Face'; font-size: 18px;\"> \n",
    "So the python code to run this code is:"
   ]
  },
  {
   "cell_type": "code",
   "execution_count": 35,
   "id": "b8099f9c-ecb7-4e18-9523-3aa2448589b9",
   "metadata": {},
   "outputs": [
    {
     "name": "stdout",
     "output_type": "stream",
     "text": [
      "HTML File successfully created\n"
     ]
    }
   ],
   "source": [
    "from jinja2 import Environment, FileSystemLoader\n",
    "\n",
    "# Step 1: Set up Jinja2 Environment\n",
    "env = Environment(loader=FileSystemLoader('.'))  # Current directory\n",
    "\n",
    "# Step 2: Load the HTML Template\n",
    "template = env.get_template('Basic Macros.jinja')\n",
    "\n",
    "# Step 3: Rendering the data into html file\n",
    "output = template.render()\n",
    "with open(\"Basic Macros.html\", \"w\") as file:\n",
    "    file.write(output)\n",
    "\n",
    "print(\"HTML File successfully created\")"
   ]
  },
  {
   "cell_type": "markdown",
   "id": "7f6ea7ea-6737-4c2d-9f77-43962785bf85",
   "metadata": {},
   "source": [
    "<P style=\"font-family: 'Baskerville Old Face'; font-size: 18px;\"> \n",
    "So, we can see that instead of writing code three times to greet three people, we just created a macros function and used it three times to greet three people. So this really reduced the time complexity of program by reducing the number of functions and the lines of code. <br>\n",
    "The webpage formed will look like:\n",
    "<center><img src = \"Basic Macros.jpg\" style=\"border: 3px solid black\"></center>\n",
    "<p style=\"font-family: 'Baskerville Old Face'; font-size: 18px;\">\n",
    "The link of file formed is:<br>\n",
    "Link: <a href=\"Basic Macros.html\" target=\"_blank\">Basic Macros.html</a><br>"
   ]
  },
  {
   "cell_type": "markdown",
   "id": "652453ce-8637-4fec-af3e-24194d097b2e",
   "metadata": {},
   "source": [
    "<P style=\"font-family: 'Baskerville Old Face'; font-size: 18px;\"> \n",
    "b) <b>Macros and Control Structures:</b><br>\n",
    "So we can also have for loops and if-elif-else in our Macros. Let's take our previous webpage: \"IITian students.jinja\". In the code of the iit_name, we could also have used Macros by using the following syntax:"
   ]
  },
  {
   "cell_type": "markdown",
   "id": "9be76a52-2d87-4865-9916-da84b1dc0ad9",
   "metadata": {},
   "source": [
    "<pre style=\"background-color: #f5f5f5; padding: 12px; border-radius: 6px; border: 1px solid #ccc; font-size: 16px; overflow-x: auto;\">\n",
    "<code style=\"background-color: #f5f5f5; font-family: \"Baskerville Old Face\">\n",
    "{% raw %}{% macro list_items(items) %}{% endraw %}\n",
    "    &lt;ul&gt;\n",
    "    {% raw %}{% for item in items %}{% endraw %}\n",
    "        &lt;li&gt;{{ '{{ item }}' }}&lt;/li&gt;\n",
    "    {% raw %}{% endfor %}{% endraw %}\n",
    "    &lt;/ul&gt;\n",
    "{% raw %}{% endmacro %}{% endraw %}\n",
    "\n",
    "{{ '{{ list_items([\"IIT Delhi\", \"IIT Bombay\", \"IIT Kanpur\", \"IIT Gandhinagar\"]) }}' }}  {# And many more #}\n",
    "</code>\n",
    "</pre>\n"
   ]
  },
  {
   "cell_type": "markdown",
   "id": "2246ed5a-01c4-4f4b-a674-d77c1cbaaafe",
   "metadata": {},
   "source": [
    "<P style=\"font-family: 'Baskerville Old Face'; font-size: 18px;\"> \n",
    "And we know the method of how to run this."
   ]
  },
  {
   "cell_type": "markdown",
   "id": "587c2bab-cd96-499d-9a90-dfe09d99a951",
   "metadata": {},
   "source": [
    "<P style=\"font-family: 'Baskerville Old Face'; font-size: 18px;\"> \n",
    "c) <b>Macros and Buttons:</b><br>\n",
    "We can also add buttons in our webpages using macros. And if we link it to some other HTML webpage, it'll act as a real google form page. So we can create buttons using Macros using the following code:"
   ]
  },
  {
   "cell_type": "markdown",
   "id": "5beaaaf0-a8ce-4326-a6e4-d5deb6f7d2a8",
   "metadata": {},
   "source": [
    "<pre style=\"background-color: #f5f5f5; padding: 12px; border-radius: 6px; border: 1px solid #ccc; font-size: 16px; overflow-x: auto;\">\n",
    "<code style=\"background-color: #f5f5f5; font-family: \"Baskerville Old Face\">\n",
    "{% raw %}{% macro button(text=\"Click Me\", color=\"blue\") %}{% endraw %}\n",
    "    &lt;button style=\"background-color: {{ '{{ color }}' }};\"&gt;{{ '{{ text }}' }}&lt;/button&gt;\n",
    "{% raw %}{% endmacro %}{% endraw %}\n",
    "\n",
    "{{ '{{ button() }}' }}\n",
    "{{ '{{ button(\"Submit\", \"green\") }}' }}\n",
    "</code>\n",
    "</pre>"
   ]
  },
  {
   "cell_type": "markdown",
   "id": "1b484e0a-1b91-4dfd-b5f1-4331189d45b7",
   "metadata": {},
   "source": [
    "<P style=\"font-family: 'Baskerville Old Face'; font-size: 18px;\"> \n",
    "So here since in the first one no text and color is given; it will take the default value , i.e., Click Me and color blue. So let's run it:"
   ]
  },
  {
   "cell_type": "code",
   "execution_count": 41,
   "id": "fbb7ac8d-379b-40e5-b07f-a2e933427ef0",
   "metadata": {},
   "outputs": [
    {
     "name": "stdout",
     "output_type": "stream",
     "text": [
      "HTML File successfully created\n"
     ]
    }
   ],
   "source": [
    "from jinja2 import Environment, FileSystemLoader\n",
    "\n",
    "# Step 1: Set up Jinja2 Environment\n",
    "env = Environment(loader=FileSystemLoader('.'))  # Current directory\n",
    "\n",
    "# Step 2: Load the HTML Template\n",
    "template = env.get_template('Macros Button.jinja')\n",
    "\n",
    "# Step 3: Rendering the data into html file\n",
    "output = template.render()\n",
    "with open(\"Macros Button.html\", \"w\") as file:\n",
    "    file.write(output)\n",
    "\n",
    "print(\"HTML File successfully created\")"
   ]
  },
  {
   "cell_type": "markdown",
   "id": "066fa03f-1c07-4364-84ef-d17092efbc74",
   "metadata": {},
   "source": [
    "<P style=\"font-family: 'Baskerville Old Face'; font-size: 18px;\"> \n",
    "So by this way we can create buttons also using macros.<br>\n",
    "The webpage formed will look like:<br>\n",
    "<center><img src = \"Macros Button.jpg\" style=\"border: 3px solid black\"></center>\n",
    "<p style=\"font-family: 'Baskerville Old Face'; font-size: 18px;\">\n",
    "The link for the aboce webpage can be accessed from here:<br>\n",
    "Link: <a href=\"Macros Button.html\" target=\"_blank\">Macros Button.html</a><br>\n",
    "So we saw that how macros are such powerful tools in Jinja2 Templating. Macros are great for forms, buttons, cards, and repeating UI elements in web templates. There are many more fucntions of Macros. To refer them, you can use the following website:<br>\n",
    "Link: <a href=\"https://www.geeksforgeeks.org/how-to-use-macros-in-jinja/\"> Macros in Jinja2 </a>"
   ]
  },
  {
   "cell_type": "markdown",
   "id": "7f98b7b9-19f6-45eb-bf86-efb1af0a6478",
   "metadata": {},
   "source": [
    "<a id =\"Template Inheritance\">\n",
    "<P style=\"font-family: 'Baskerville Old Face'; font-size: 20px;\"> \n",
    "<b>5. Template Inheritance:</b><br>\n",
    "<P style=\"font-family: 'Baskerville Old Face'; font-size: 18px;\"></a> \n"
   ]
  },
  {
   "cell_type": "markdown",
   "id": "34ddbbd1-2045-4ebb-a3ef-c444a9a3eb8c",
   "metadata": {},
   "source": [
    "<P style=\"font-family: 'Baskerville Old Face'; font-size: 18px;\"> \n",
    "The most powerful part of Jinja is template inheritance. Template Inheritance allows you to create a base template that acts as a blueprint, and then extend it in child templates. This is super useful when you want to maintain a consistent layout (like headers, footers, navbars) across multiple pages but still allow for unique content on each page.<br>\n",
    "So a template inheritance has two parts:\n",
    "<ol style=\"font-family: 'Baskerville Old Face'; font-size: 18px;\"> \n",
    "<li>Base Template: This is the HTML file that holds the common structure and uses {% block %} tags to define areas that child templates can overwrite while others remain fixed. \n",
    "<li>Child Template: This is the template which extends the base template and overrides the defined blocks.\n",
    "</ol>\n",
    "<P style=\"font-family: 'Baskerville Old Face'; font-size: 18px;\"> \n",
    "So one thing we should note that Template inheritance of Jinja2 is not same as Macros/ Functions. It's more similar to <b>Object Oriented Programming (OOP)</b> of C++. Here, base template is like a parent class, child template like a subclass overriding methods and {% block %} signifies where child template can actually override. So we can think base templates are blueprints and child templates are inherit from blueprint but can modify its certain parts where {% block %} is present. <br>\n",
    "To avoid confusion between Functions and template inheritance, let's see differences between them:\n"
   ]
  },
  {
   "cell_type": "markdown",
   "id": "869b2ed7-dd17-4a88-80ef-fa9aaa749d2f",
   "metadata": {},
   "source": [
    "<table style=\"width: 100%; border-collapse: collapse; font-family: 'Baskerville Old Face'; font-size: 18px;\">\n",
    "  <tr style=\"background-color: #f2f2f2;\">\n",
    "    <th style=\"padding: 8px; border: 2px solid #000;font-family: 'Baskerville Old Face';text-align: center\">Parameter</th>\n",
    "    <th style=\"padding: 8px; border: 2px solid #000;font-family: 'Baskerville Old Face';text-align: center\">Functions/ Macros</th>\n",
    "    <th style=\"padding: 8px; border: 2px solid #000;font-family: 'Baskerville Old Face';text-align: center\">Template Inheritance</th>\n",
    "  </tr>\n",
    "  <tr>\n",
    "    <td style=\"padding: 8px; border: 2px solid #000;font-family: 'Baskerville Old Face';\">Purpose</td>\n",
    "    <td style=\"padding: 8px; border: 2px solid #000;font-family: 'Baskerville Old Face';\">Reuse a block of code repeatedly.</td>\n",
    "      <td style=\"padding: 8px; border: 2px solid #000;font-family: 'Baskerville Old Face';\">Reuse a layout or structure across multiple pages.</td>\n",
    "  </tr>\n",
    "  <tr>\n",
    "    <td style=\"padding: 8px; border: 2px solid #000;font-family: 'Baskerville Old Face';\">Execution</td>\n",
    "    <td style=\"padding: 8px; border: 2px solid #000;font-family: 'Baskerville Old Face';\">Called when needed</td>\n",
    "        <td style=\"padding: 8px; border: 2px solid #000;font-family: 'Baskerville Old Face';\">Automatically applied through inheritance</td>\n",
    "  </tr>\n",
    "  <tr>\n",
    "    <td style=\"padding: 8px; border: 2px solid #000;font-family: 'Baskerville Old Face';\">Analogy</td>\n",
    "    <td style=\"padding: 8px; border: 2px solid #000;font-family: 'Baskerville Old Face';\">Like a utility in a module, called when required.</td>\n",
    "    <td style=\"padding: 8px; border: 2px solid #000;font-family: 'Baskerville Old Face';\">Like a parent class, that child class extends</td>\n",
    "  </tr>\n",
    "  <tr>\n",
    "    <td style=\"padding: 8px; border: 2px solid #000;font-family: 'Baskerville Old Face';\">Customization</td>\n",
    "    <td style=\"padding: 8px; border: 2px solid #000;font-family: 'Baskerville Old Face';\">Pass arguements to call it</td>\n",
    "    <td style=\"padding: 8px; border: 2px solid #000;font-family: 'Baskerville Old Face';\">Overrides blocks to customize content</td>\n",
    "  </tr>\n",
    "</table>\n",
    "<P style=\"font-family: 'Baskerville Old Face'; font-size: 18px;\"> \n",
    "So let's have an example. <br>\n",
    "We have a base (parent) template as given below:"
   ]
  },
  {
   "cell_type": "markdown",
   "id": "852e2fdc-a2c1-4804-9cdc-27ec0b64e8cb",
   "metadata": {},
   "source": [
    "<pre style=\"background-color: #f5f5f5; padding: 12px; border-radius: 6px; border: 1px solid #ccc; font-size: 16px; overflow-x: auto;\">\n",
    "<code style=\"background-color: #f5f5f5; font-family: \"Baskerville Old Face\">\n",
    "&lt;!DOCTYPE html&gt;\n",
    "&lt;html&gt;\n",
    "&lt;head&gt;\n",
    "    &lt;title&gt;{% block title %}My Website{% endblock %}&lt;/title&gt;\n",
    "&lt;/head&gt;\n",
    "&lt;body&gt;\n",
    "    &lt;header&gt;\n",
    "        &lt;h1&gt;Welcome to My Website&lt;/h1&gt;\n",
    "    &lt;/header&gt;\n",
    "\n",
    "    &lt;nav&gt;\n",
    "        &lt;a href=\"/\"&gt;Home&lt;/a&gt; | &lt;a href=\"/about\"&gt;About&lt;/a&gt;\n",
    "    &lt;/nav&gt;\n",
    "\n",
    "    &lt;div&gt;\n",
    "        {% block content %}{% endblock %}\n",
    "    &lt;/div&gt;\n",
    "\n",
    "    &lt;footer&gt;\n",
    "        &lt;p&gt;&amp;copy; 2024 My Website&lt;/p&gt;\n",
    "    &lt;/footer&gt;\n",
    "&lt;/body&gt;\n",
    "&lt;/html&gt;\n",
    "</code>\n",
    "</pre>\n"
   ]
  },
  {
   "cell_type": "markdown",
   "id": "4492a4c3-d34f-4908-b9fd-6fe722e162ff",
   "metadata": {},
   "source": [
    "<P style=\"font-family: 'Baskerville Old Face'; font-size: 18px;\"> \n",
    "And our child template is:"
   ]
  },
  {
   "cell_type": "markdown",
   "id": "fc332072-5b22-475d-8779-297815827d91",
   "metadata": {},
   "source": [
    "<pre style=\"background-color: #f5f5f5; padding: 12px; border-radius: 6px; border: 1px solid #ccc; font-size: 16px; overflow-x: auto;\">\n",
    "<code style=\"background-color: #f5f5f5; font-family: \"Baskerville Old Face\">\n",
    "{% raw %}\n",
    "{% extends \"base.html\" %}\n",
    "\n",
    "{% block title %}Home Page{% endblock %}\n",
    "\n",
    "{% block content %}\n",
    "    &lt;h2&gt;Home Page&lt;/h2&gt;\n",
    "    &lt;p&gt;Welcome to the homepage of my awesome website!&lt;/p&gt;\n",
    "{% endblock %}\n",
    "{% endraw %}\n",
    "</code>\n",
    "</pre>"
   ]
  },
  {
   "cell_type": "markdown",
   "id": "5da1ca2e-9573-481c-afc2-878f9bf36e19",
   "metadata": {},
   "source": [
    "<P style=\"font-family: 'Baskerville Old Face'; font-size: 18px;\"> \n",
    "Let's run this code using the following python code:"
   ]
  },
  {
   "cell_type": "code",
   "execution_count": 48,
   "id": "e4466fd7-d72f-4fa7-ac6f-e5798dcdff0b",
   "metadata": {},
   "outputs": [
    {
     "name": "stdout",
     "output_type": "stream",
     "text": [
      "Rendered successfully!\n"
     ]
    }
   ],
   "source": [
    "from jinja2 import Environment, FileSystemLoader\n",
    "\n",
    "# Set up Jinja2 Environment\n",
    "env = Environment(loader=FileSystemLoader('.'))\n",
    "\n",
    "# Load child template\n",
    "template = env.get_template('Child Template.jinja')\n",
    "\n",
    "# Render and save\n",
    "output = template.render()\n",
    "with open(\"Rendered child template.html\", \"w\") as file:\n",
    "    file.write(output)\n",
    "\n",
    "print(\"Rendered successfully!\")"
   ]
  },
  {
   "cell_type": "markdown",
   "id": "e633a5bc-4d13-4876-93c1-9f132c3f7598",
   "metadata": {},
   "source": [
    "<P style=\"font-family: 'Baskerville Old Face'; font-size: 18px;\"> \n",
    "So if everything would be correct, you'll see that you really created a webpage that shows home page. Here, we fixed the heading as the parent template as all pages should has the heading. While the content, i.e., home and about could vary. So we kept that in block content and with help of child template of home page, we extended the parent class and we could see what it showed as output. <br>\n",
    "The webpage formed will look like:\n",
    "<center><img src = \"Rendered child template.jpg\" style=\"border: 3px solid black\"></center>\n",
    "<p style=\"font-family: 'Baskerville Old Face'; font-size: 18px;\">\n",
    "We can refer the following link to see the webpage:<br>\n",
    "Link: <a href = \"Rendered child template.html\">My Website</a><br>\n",
    "To learn more about the Template Inheritance, you can refer the link given below:<br>\n",
    "Link: <a href = \"https://jinja.palletsprojects.com/en/stable/templates/#template-inheritance\">Template Inheritance</a><br>\n",
    "So these two features: Macros and Template Inheritance are very two popular and powerful features of Jinja2 which helps a lot in Webpage development using Python. <BR>"
   ]
  },
  {
   "cell_type": "markdown",
   "id": "3bd513f8-a1cb-4ab8-91a4-5364afdd045b",
   "metadata": {},
   "source": [
    "<P style=\"font-family: 'Baskerville Old Face'; font-size: 18px;\"> \n",
    "So we discussed almost all the most important features of the Jinja2 Templating. In addition to them, other important features include HTML Escaping, Dynamic Rendering with other databases, API's or files into JSON, or any other text-format."
   ]
  },
  {
   "cell_type": "markdown",
   "id": "d14e7686-0136-412b-a201-b4833b511a9b",
   "metadata": {},
   "source": [
    "<a id =\"HTML Escaping\">\n",
    "<P style=\"font-family: 'Baskerville Old Face'; font-size: 20px;\"> \n",
    "<b>6. HTML Escaping:</b><br></a>\n",
    "<P style=\"font-family: 'Baskerville Old Face'; font-size: 18px;\">\n",
    "Those familiar with HTML would have faced issues where they wanted to print a text but it included some HTML tags due to which it was interepreted as HTML code and unexpected outputs could have come. <br>\n",
    "<P style=\"font-family: 'Baskerville Old Face'; font-size: 18px;\">    \n",
    "And so to solve it Jinja2 has a very systematic method which we call <b>HTML Escaping</b>. <br>\n",
    "So HTML Escaping is the process of converting special characters in HTML into their corresponding text to prevent them from being interpreted as actual HTML code. This ensures that the content is displayed as text rather than being executed or interpreted as HTML or JavaScript, which is essential for security (especially to prevent XSS attacks) and for displaying special symbols. <br>"
   ]
  },
  {
   "cell_type": "markdown",
   "id": "b9dbdeb8-8ee9-4b64-9de0-6cd07fde96a5",
   "metadata": {},
   "source": [
    "<pre style=\"background-color: #f5f5f5; padding: 12px; border-radius: 6px; border: 1px solid #ccc; font-size: 16px; overflow-x: auto;\">\n",
    "<center>Cross Site Scripting</center>\n",
    "Cross Site Scripting (XSS) is a vulnerability in a web application that allows a third party to execute a script in the user’s browser on behalf of the web application. Cross-site Scripting is one of the most prevalent vulnerabilities present on the web today. The exploitation of XSS against a user can lead to various consequences such as account compromise, account deletion, privilege escalation, malware infection and many more.\n",
    "</pre>"
   ]
  },
  {
   "cell_type": "markdown",
   "id": "fd09e39f-c118-4f1d-9159-8f9d018226a4",
   "metadata": {},
   "source": [
    "<P style=\"font-family: 'Baskerville Old Face'; font-size: 18px;\">\n",
    "HTML Escaping is very important in today's world because of following reasons:\n",
    "<ul style=\"font-family: 'Baskerville Old Face'; font-size: 18px;\">\n",
    "<li>Security: Prevents malicious code (like JavaScript) from being executed. And this is a common cause for XSS Attacks. </li>\n",
    "<li>Correct Display: Ensures that characters like <, >, or & are displayed as it is rather than being interpreted as HTML tags or entities.</li>\n",
    "<li>Data Integrity: Helps when user-generated content (like comments or form inputs) is displayed on a webpage.</li>\n",
    "</ul>\n",
    "<P style=\"font-family: 'Baskerville Old Face'; font-size: 18px;\">\n",
    "So some common characters that need HTML Escaping are:\n",
    "<table style=\"width: 100%; border-collapse: collapse; font-family: 'Baskerville Old Face'; font-size: 18px;\">\n",
    "  <tr style=\"background-color: #f2f2f2;\">\n",
    "    <th style=\"padding: 8px; border: 2px solid #000;font-family: 'Baskerville Old Face';text-align: center\">Character</th>\n",
    "    <th style=\"padding: 8px; border: 2px solid #000;font-family: 'Baskerville Old Face';text-align: center\">Key to escape</th>\n",
    "    <th style=\"padding: 8px; border: 2px solid #000;font-family: 'Baskerville Old Face';text-align: center\">Purpose</th>\n",
    "  </tr>\n",
    "  <tr>\n",
    "    <td style=\"padding: 8px; border: 2px solid #000;font-family: 'Baskerville Old Face';\">&lt;</td>\n",
    "    <td style=\"padding: 8px; border: 2px solid #000;font-family: 'Baskerville Old Face';\">& lt;</td>\n",
    "      <td style=\"padding: 8px; border: 2px solid #000;font-family: 'Baskerville Old Face';\">Less than symbol</td>\n",
    "  </tr>\n",
    " <tr>\n",
    "    <td style=\"padding: 8px; border: 2px solid #000;font-family: 'Baskerville Old Face';\">&gt;</td>\n",
    "    <td style=\"padding: 8px; border: 2px solid #000;font-family: 'Baskerville Old Face';\">& gt;</td>\n",
    "        <td style=\"padding: 8px; border: 2px solid #000;font-family: 'Baskerville Old Face';\">Greater than symbol</td>\n",
    "  <tr>\n",
    "    <td style=\"padding: 8px; border: 2px solid #000;font-family: 'Baskerville Old Face';\">&</td>\n",
    "    <td style=\"padding: 8px; border: 2px solid #000;font-family: 'Baskerville Old Face';\">& amp;</td>\n",
    "    <td style=\"padding: 8px; border: 2px solid #000;font-family: 'Baskerville Old Face';\">Ampersand</td>\n",
    "  </tr>\n",
    "  <tr>\n",
    "    <td style=\"padding: 8px; border: 2px solid #000;font-family: 'Baskerville Old Face';\">\"</td>\n",
    "    <td style=\"padding: 8px; border: 2px solid #000;font-family: 'Baskerville Old Face';\">& quot;</td>\n",
    "    <td style=\"padding: 8px; border: 2px solid #000;font-family: 'Baskerville Old Face';\">Double Quotation mark</td>\n",
    "  </tr>\n",
    "  <tr>\n",
    "    <td style=\"padding: 8px; border: 2px solid #000;font-family: 'Baskerville Old Face';\">'</td>\n",
    "    <td style=\"padding: 8px; border: 2px solid #000;font-family: 'Baskerville Old Face';\">& #39;</td>\n",
    "    <td style=\"padding: 8px; border: 2px solid #000;font-family: 'Baskerville Old Face';\">Single Quotation Mark</td>\n",
    "  </tr>\n",
    "\n",
    "</table>"
   ]
  },
  {
   "cell_type": "markdown",
   "id": "87d80e7f-7902-4189-95e6-2215cdbe12b3",
   "metadata": {},
   "source": [
    "<P style=\"font-family: 'Baskerville Old Face'; font-size: 18px;\">\n",
    "In addition to this, we can also use filters: <b>|safe </b> (to get html tags as it is) and <b>|e</b> or <b>|escape</b> (to manually escape variables).<br>\n",
    "For more details on HTML Escaping, you can refer the following link: <a href = \"https://jinja.palletsprojects.com/en/stable/templates/#html-escaping\">HTML Escaping</a><br>"
   ]
  },
  {
   "cell_type": "markdown",
   "id": "22d6cdf6-b8bb-45b9-b537-104a726372ed",
   "metadata": {},
   "source": [
    "<pre style=\"background-color: #f5f5f5; padding: 12px; border-radius: 6px; border: 1px solid #ccc; font-size: 16px; overflow-x: auto;\">\n",
    "<center>A Secret</center>\n",
    "Even in this blog created using Jupyter notebook, the HTML5 Codes have been added using HTML Escaping codes otherwise they were being automatically executed. And as a blogger I want my readers to knwo in detail about the code. That's why I added the HTML5 code and used HTML Escaping cpdes so that they do not get executed and appears as plain text\n",
    "</pre>"
   ]
  },
  {
   "cell_type": "markdown",
   "id": "24a32329-c259-4d0c-b18c-92154016b27c",
   "metadata": {},
   "source": [
    "<a id =\"Applications of Jinja2 Templating\">\n",
    "<p style=\"font-family: 'Baskerville Old Face'; text-align: justify; font-size: 20px; color: #000066\"><b>֍  Applications of Jinja2 Templating:</b></p>\n",
    "</a>"
   ]
  },
  {
   "cell_type": "markdown",
   "id": "d353d85f-bc3e-4c5a-92df-b2b67175dec4",
   "metadata": {},
   "source": [
    "<P style=\"font-family: 'Baskerville Old Face'; font-size: 18px;\"> \n",
    "Jinja2 isn’t just for creating HTML templates—its power lies in its versatility and ability to dynamically generate a wide range of files and data structures. And there are a vast number of applications of Jinja2 in this world of technology:\n",
    "<ol style=\"font-family: 'Baskerville Old Face'; font-size: 18px;\"> \n",
    "<li><b>Web Development:</b> We can create webpages as well as websites through Flask and Django using Jinja2 templating to render HTML Pages dynamically. It helps in injecting data into webpages</li>\n",
    "<li><b>Email Automation</b>: We can even generate bulk emails with custom names, links and content. This makes Jinja2 useful in marketing campaigns and transactional emails.</li>\n",
    "<li><b>Reports Formation:</b> Jinja2 is used in data analysis for dashboards and summaries.  </li>\n",
    "<li><b>Templates driven form:</b> We can even create forms through Jinja2 templating that can include quizzes, surveys, and also feedback forms etc.</li>\n",
    "<li><b>Configuration file generation:</b> It is also used in DevOps and cloud deployments to create multiple configurations file. It is commonly used with Ansible, Terraform etc.</li>\n",
    "<li><b>E-commerce Platforms:</b> Jinja2 also find its application in E-Commerce websites because of its features to render product details, customize emails etc. </li>\n",
    "<li><b>Data Science and Visualization:</b> It has the ability to get integrated with plotly, matplotlib which can help a lot to plot graphs on webpages</li>"
   ]
  },
  {
   "cell_type": "markdown",
   "id": "1cc64b6d-0fdb-4f70-9a48-02df796b9f6c",
   "metadata": {},
   "source": [
    "<a id= \"Common Errors faced by Users\">\n",
    "<p style=\"font-family: 'Baskerville Old Face'; text-align: justify; font-size: 20px; color: #000066\"><b>\n",
    "֍  Common Errors faced by Users:</b></a>"
   ]
  },
  {
   "cell_type": "markdown",
   "id": "21745ac2-b7d9-4921-9645-4efc2d987cc8",
   "metadata": {},
   "source": [
    "<p style=\"font-family: 'Baskerville Old Face'; text-align: justify; font-size: 18px;\">\n",
    "So before coming to the end we would like to include all the common errors that you all might face during jinja2 templating. So let's discuss them:<br>\n",
    "<table style=\"width: 100%; border-collapse: collapse; font-family: 'Baskerville Old Face'; font-size: 18px;\">\n",
    "  <tr style=\"background-color: #f2f2f2;\">\n",
    "    <th style=\"padding: 8px; border: 2px solid #000;font-family: 'Baskerville Old Face';text-align: center\">Errors</th>\n",
    "    <th style=\"padding: 8px; border: 2px solid #000;font-family: 'Baskerville Old Face';text-align: center\">Causes</th>\n",
    "    <th style=\"padding: 8px; border: 2px solid #000;font-family: 'Baskerville Old Face';text-align: center\">How to fix them?</th> \n",
    "  </tr>\n",
    "  <tr>\n",
    "    <td style=\"padding: 8px; border: 2px solid #000;font-family: 'Baskerville Old Face';\">TemplateNotFound Error</td>\n",
    "      <td style=\"padding: 8px; border: 2px solid #000;font-family: 'Baskerville Old Face';\">Occurs when the template file path is incorrect or the template is missing.  </td>\n",
    "    <td style=\"padding: 8px; border: 2px solid #000;font-family: 'Baskerville Old Face';\">Fix:Ensure the template exists in the correct folder and the file path is accurate.</td>\n",
    "  </tr>\n",
    "  <tr>\n",
    "    <td style=\"padding: 8px; border: 2px solid #000;font-family: 'Baskerville Old Face';\">UndefinedError</td>\n",
    "    <td style=\"padding: 8px; border: 2px solid #000;font-family: 'Baskerville Old Face';\">This happens when a variable used in the template isn't passed from Python.  </td>\n",
    "        <td style=\"padding: 8px; border: 2px solid #000;font-family: 'Baskerville Old Face';\">Always pass required variables using template.render()and use {{ variable | default('value') }} for fallbacks.</td>\n",
    "  </tr>\n",
    "  <tr>\n",
    "    <td style=\"padding: 8px; border: 2px solid #000;font-family: 'Baskerville Old Face';\">Improper Use of Control Structures</td>\n",
    "    <td style=\"padding: 8px; border: 2px solid #000;font-family: 'Baskerville Old Face';\">Forgetting to close blocks like {% if %} or {% for %}</td>\n",
    "    <td style=\"padding: 8px; border: 2px solid #000;font-family: 'Baskerville Old Face';\">Always close blocks with {% endif %} or {% endfor %}</td>\n",
    "  </tr>\n",
    "  <tr>\n",
    "    <td style=\"padding: 8px; border: 2px solid #000;font-family: 'Baskerville Old Face';\">HTML Injection (XSS) Vulnerability</td>\n",
    "    <td style=\"padding: 8px; border: 2px solid #000;font-family: 'Baskerville Old Face';\">Directly rendering user input can make your website vulnerable to attacks.</td>\n",
    "    <td style=\"padding: 8px; border: 2px solid #000;font-family: 'Baskerville Old Face';\"> Jinja2 autoescapes by default, but always validate and sanitize user inputs.</td>\n",
    "  </tr>\n",
    "  <tr>\n",
    "    <td style=\"padding: 8px; border: 2px solid #000;font-family: 'Baskerville Old Face';\">Incorrect Filter Usage:</td>\n",
    "    <td style=\"padding: 8px; border: 2px solid #000;font-family: 'Baskerville Old Face';\">Using non-existent filters or incorrect syntax.</td>\n",
    "    <td style=\"padding: 8px; border: 2px solid #000;font-family: 'Baskerville Old Face';\"> Refer to the <a href=\"https://jinja.palletsprojects.com/en/3.1.x/templates/#list-of-builtin-filters\" target=\"_blank\">Official Jinja2 Filter Documentation</a> for proper usage.</td>\n",
    "  </tr>\n",
    "</table>"
   ]
  },
  {
   "cell_type": "markdown",
   "id": "199d3788-321b-4886-81d5-2d445be5f160",
   "metadata": {},
   "source": [
    "<a id =\"Conclusion\">\n",
    "<p style=\"font-family: 'Baskerville Old Face'; text-align: justify; font-size: 20px; color: #000066\"><b>֍  Conclusion:</b></p>\n",
    "</a>"
   ]
  },
  {
   "cell_type": "markdown",
   "id": "64eb6163-4fc5-42ea-86ab-ddb470dc2d5e",
   "metadata": {},
   "source": [
    "<P style=\"font-family: 'Baskerville Old Face'; font-size: 18px;\">\n",
    "So we really had a very-very long talk on Jinja2 Templating. We firstly saw what it is, why is it used and how it works. Then we went to the part where we can actually understand how it functions and learnt its basics to create a webpage using HTML-Python. Then we went to see its key features and saw main five key features: Variable Insertion, Control Structures, Filters, Macros, and Template Inheritance. There are too many more functions of it like HTML Escaping which helps to protect users from crisis like <a href =\"https://www.geeksforgeeks.org/what-is-cross-site-scripting-xss/\">XSS Attacks</a>; <a href = \"https://www.softwaretestinghelp.com/html-injection-tutorial/\">HTML Injection</a> etc.; its integration with Django, Ansible, Flask etc. make it very useful tool.<BR>\n",
    "[To know more about HTML Escaping, you can use the following link: <a href = \"https://jinja.palletsprojects.com/en/stable/templates/#html-escaping\">HTML Escaping</a>]<br>\n",
    "We saw earlier that how Jinja2 was used to plot graph, and just as an example we saw its compilation with Flask. Jinja2 has a wide real world application like in email templates, webpage developments and many other.<br>\n",
    "So I hope that this blog helped you to have a good base for the Jinja2 Templating and though we couldn't include its intergation with Django, Ansible as that would have made it too advanced."
   ]
  },
  {
   "cell_type": "markdown",
   "id": "200a2345-487f-4881-87ff-64e6afece035",
   "metadata": {},
   "source": [
    "<a id = \"References\">\n",
    "<p style=\"font-family: 'Baskerville Old Face'; text-align: justify; font-size: 20px; color: #000066\"><b>֍  References:</b></p>\n",
    "</a>"
   ]
  },
  {
   "cell_type": "markdown",
   "id": "b63e942a-66cd-41bd-97ed-dd6d7d35383f",
   "metadata": {},
   "source": [
    "<P style=\"font-family: 'Baskerville Old Face'; font-size: 18px;\">\n",
    "The journey through Jinja2 Templating doesn't have to end here! While this blog laid the groundwork there's a whole world of advanced tricks, real-world applications and developer secrets waiting for you to explore.<br>\n",
    "Below are the references that fueled this blog along with references for additional information and all the links that have supported our blog:\n",
    "\n",
    "<h3 style=\"color: #800080;font-family: 'Baskerville Old Face'; font-size: 18px;\"\">Pre-Requisite Resources:</h3>\n",
    "<ul style=\"font-family: 'Baskerville Old Face'; font-size: 18px;\">\n",
    "    <li>🔗 <a href=\"https://docs.python.org/3/\" target=\"_blank\">Python 3.13.2 Official Documentation</a> — <i>Useful for learning Python.</i></li>\n",
    "    <li>🔗 <a href=\"https://en.wikipedia.org/wiki/Python_(programming_language)\" target=\"_blank\">Python Programming Language Wikipedia</a> — <i>To know theory of Python Language</i></li>\n",
    "    <li>🔗 <a href=\"https://www.w3schools.com/python/python_intro.asp\" target=\"_blank\">What is Python? – W3Schools</a> — <i>To know more about functions and features of Python.</i></li>\n",
    "    <li>🔗 <a href=\"https://en.wikipedia.org/wiki/HTML\" target=\"_blank\">Introduction to HTML5 -Wikipedia</a> — <i>To know what is HTML and have deep insights into it.</i></li>\n",
    "    <li>🔗 <a href=\"https://www.w3schools.com/html/\" target=\"_blank\">HTML5 Bacis -W3 Schools</a> — <i>To learn how to create webpages using HTML5</i></li>\n",
    "    \n",
    "</ul>\n",
    "<h3 style=\"color: #800080;font-family: 'Baskerville Old Face'; font-size: 18px;\">Jinja2 Essentials:</h3>\n",
    "<ul style=\"font-family: 'Baskerville Old Face'; font-size: 18px;\">\n",
    "    <li>🔗 <a href=\"https://ttl255.com/jinja2-tutorial-part-1-introduction-and-variable-substitution/\" target=\"_blank\">Jinja2 Tutorial – Part 1: Introduction & Variable Substitution</a> — <i>A deep dive into Jinja2 basics and variable handling.</i></li>\n",
    "    <li>🔗 <a href=\"https://www.geeksforgeeks.org/getting-started-with-jinja-template/\" target=\"_blank\">Getting Started with Jinja Template – GeeksforGeeks</a> — <i>Perfect for beginners exploring Jinja templating.</i></li>\n",
    "    <li>🔗 <a href=\"https://www.geeksforgeeks.org/best-practices-for-jinja-templating/?ref=ml_lbp\" target=\"_blank\">Best Practices for Jinja Templating – GeeksforGeeks</a> — <i>Tips to write clean and efficient templates.</i></li>\n",
    "    <li>🔗 <a href=\"https://jinja.palletsprojects.com/en/stable/\" target=\"_blank\">Jinja2 Official Documentation</a> — <i>The ultimate guide for filters, macros, and inheritance.</i></li>\n",
    "    <li>🔗 <a href=\"https://ttl255.com/jinja2-tutorial-part-1-introduction-and-variable-substitution/\" target=\"_blank\">Jinja2 Tutorial by ttl255</a> — <i>Very good and advnaced guide for the Jinja2 Templating</i></li>\n",
    "    \n",
    "</ul>\n",
    "\n",
    "<h3 style=\"color: #800080;font-family: 'Baskerville Old Face'; font-size: 18px;\">Security & Best Practices:</h3>\n",
    "<ul style=\"font-family: 'Baskerville Old Face'; font-size: 18px;\">\n",
    "    <li>🔗 <a href=\"https://www.softwaretestinghelp.com/html-injection-tutorial/\" target=\"_blank\">HTML Injection Tutorial – SoftwareTestingHelp</a> — <i>Understand how HTML Injection works and how to prevent it.</i></li>\n",
    "    <li>🔗 <a href=\"https://www.geeksforgeeks.org/what-is-cross-site-scripting-xss/\" target=\"_blank\">What is Cross-Site Scripting (XSS)? – GeeksforGeeks</a> — <i>Learn about XSS vulnerabilities and prevention techniques.</i></li>\n",
    "</ul>\n",
    "\n",
    "<h3 style=\"color: #800080;font-family: 'Baskerville Old Face'; font-size: 18px;\">Advanced Jinja2 Techniques:</h3>\n",
    "<ul style=\"font-family: 'Baskerville Old Face'; font-size: 18px;\">\n",
    "    <li>🔗 <a href=\"https://www.geeksforgeeks.org/how-to-use-macros-in-jinja/\" target=\"_blank\">How to Use Macros in Jinja – GeeksforGeeks</a> — <i>Master macros for reusability and clean code.</i></li>\n",
    "    <li>🔗 <a href=\"https://help.dashly.io/article/5146\" target=\"_blank\">Jinja2 in Dynamic Customer Messaging – Dashly Help Center</a> — <i>Explore how Jinja2 can be used in customer engagement workflows.</i></li>\n",
    "</ul>\n",
    "\n",
    "<h3 style=\"color: #800080;font-family: 'Baskerville Old Face'; font-size: 18px;\">Supporting Tools & Downloads:</h3>\n",
    "<ul style=\"font-family: 'Baskerville Old Face'; font-size: 18px;\">\n",
    "    <li>🔗 <a href=\"https://code.visualstudio.com/download\" target=\"_blank\">Visual Studio Code – Official Download</a> — <i>Lightweight IDE for coding Jinja2 templates.</i></li>\n",
    "    <li>🔗 <a href=\"https://www.anaconda.com/download\" target=\"_blank\">Anaconda Navigator – Official Download</a> — <i>For Jupyter Notebooks and Python libraries.</i></li>\n",
    "    <li>🔗 <a href=\"https://www.python.org/downloads/\" target=\"_blank\">Python – Official Download</a> — <i>Ensure you have Python installed for Jinja2 scripting.</i></li>\n",
    "</ul>\n",
    "\n",
    "<h3 style=\"color: #800080;font-family: 'Baskerville Old Face'; font-size: 18px;\"\">Additional Resources:</h3>\n",
    "<ul style=\"font-family: 'Baskerville Old Face'; font-size: 18px;\">\n",
    "    <li>🔗 <a href=\"https://www.tutorialspoint.com/yaml/index.htm\" target=\"_blank\">YAML Tutorial – TutorialsPoint</a> — <i>Useful when integrating Jinja2 with Ansible.</i></li>\n",
    "    <li>🔗 <a href=\"https://www.geeksforgeeks.org/what-is-an-api/\" target=\"_blank\">What is an API? – GeeksforGeeks</a> — <i>Understand how Jinja2 works with APIs in web apps.</i></li>\n",
    "    <li>🔗 <a href=\"https://www.w3schools.com/whatis/whatis_json.asp\" target=\"_blank\">What is JSON? – W3Schools</a> — <i>Essential for passing data between Python and templates.</i></li>\n",
    "    <li>🔗 <a href=\"https://www.geeksforgeeks.org/templating-with-jinja2-in-flask/\" target=\"_blank\">Templating with flask in Jinja2 -GeekforGeeks</a> — <i>Know how to use Flask with Jinja2 Templating</i></li>\n",
    "    \n",
    "</ul>\n",
    "\n",
    "\n",
    "<p style=\"font-family: 'Baskerville Old Face'; font-size: 18px;\">\n",
    "For deeper dives into web development, you can check out the Flask and Ansible documentation—both heavily use Jinja2 for templating and automation.\n",
    "</p>\n",
    "<h3 style=\"font-family: 'Baskerville Old Face'; font-size: 20px; text-align: center\">Thank You</h3>"
   ]
  },
  {
   "cell_type": "markdown",
   "id": "a6a876cf-5a4f-4c91-9c37-598441c58254",
   "metadata": {},
   "source": [
    "<HR>"
   ]
  }
 ],
 "metadata": {
  "kernelspec": {
   "display_name": "Python [conda env:base] *",
   "language": "python",
   "name": "conda-base-py"
  },
  "language_info": {
   "codemirror_mode": {
    "name": "ipython",
    "version": 3
   },
   "file_extension": ".py",
   "mimetype": "text/x-python",
   "name": "python",
   "nbconvert_exporter": "python",
   "pygments_lexer": "ipython3",
   "version": "3.12.7"
  }
 },
 "nbformat": 4,
 "nbformat_minor": 5
}
